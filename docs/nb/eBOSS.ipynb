{
 "cells": [
  {
   "cell_type": "markdown",
   "metadata": {},
   "source": [
    "# eBOSS mocks"
   ]
  },
  {
   "cell_type": "code",
   "execution_count": 22,
   "metadata": {
    "collapsed": true
   },
   "outputs": [],
   "source": [
    "# imports\n",
    "from astropy.io import fits\n",
    "from astropy.table import Table\n",
    "\n",
    "from linetools.spectra.xspectrum1d import XSpectrum1D"
   ]
  },
  {
   "cell_type": "markdown",
   "metadata": {},
   "source": [
    "## Load up"
   ]
  },
  {
   "cell_type": "code",
   "execution_count": 4,
   "metadata": {
    "collapsed": true
   },
   "outputs": [],
   "source": [
    "spec_path = '/home/xavier/DESI/eBOSS/'"
   ]
  },
  {
   "cell_type": "code",
   "execution_count": 3,
   "metadata": {
    "collapsed": true
   },
   "outputs": [],
   "source": [
    "spec_file = 'spec-n1.2.fits'"
   ]
  },
  {
   "cell_type": "code",
   "execution_count": 5,
   "metadata": {
    "collapsed": true
   },
   "outputs": [],
   "source": [
    "hdul = fits.open(spec_path+spec_file)"
   ]
  },
  {
   "cell_type": "markdown",
   "metadata": {},
   "source": [
    "## Explore"
   ]
  },
  {
   "cell_type": "code",
   "execution_count": 8,
   "metadata": {
    "collapsed": true
   },
   "outputs": [],
   "source": [
    "hdu0 = hdul[0]"
   ]
  },
  {
   "cell_type": "code",
   "execution_count": 12,
   "metadata": {},
   "outputs": [],
   "source": [
    "data0 = hdu0.data"
   ]
  },
  {
   "cell_type": "code",
   "execution_count": 13,
   "metadata": {
    "collapsed": true
   },
   "outputs": [],
   "source": [
    "data0"
   ]
  },
  {
   "cell_type": "code",
   "execution_count": 14,
   "metadata": {
    "collapsed": true
   },
   "outputs": [],
   "source": [
    "head1 = hdul[1].header"
   ]
  },
  {
   "cell_type": "code",
   "execution_count": 15,
   "metadata": {},
   "outputs": [
    {
     "data": {
      "text/plain": [
       "XTENSION= 'BINTABLE'           / binary table extension                         \n",
       "BITPIX  =                    8 / 8-bit bytes                                    \n",
       "NAXIS   =                    2 / 2-dimensional binary table                     \n",
       "NAXIS1  =                   56 / width of table in bytes                        \n",
       "NAXIS2  =                 1933 / number of rows in table                        \n",
       "PCOUNT  =                    0 / size of special data area                      \n",
       "GCOUNT  =                    1 / one data group (required keyword)              \n",
       "TFIELDS =                    7 / number of fields in each row                   \n",
       "TTYPE1  = 'continuum'          / label for field   1                            \n",
       "TFORM1  = '1D      '           / data format of field: 8-byte DOUBLE            \n",
       "TTYPE2  = 'error   '           / label for field   2                            \n",
       "TFORM2  = '1D      '           / data format of field: 8-byte DOUBLE            \n",
       "TTYPE3  = 'flux    '           / label for field   3                            \n",
       "TFORM3  = '1D      '           / data format of field: 8-byte DOUBLE            \n",
       "TTYPE4  = 'fluxNoNoise'        / label for field   4                            \n",
       "TFORM4  = '1D      '           / data format of field: 8-byte DOUBLE            \n",
       "TTYPE5  = 'pixelWidth'         / label for field   5                            \n",
       "TFORM5  = '1D      '           / data format of field: 8-byte DOUBLE            \n",
       "TTYPE6  = 'psf     '           / label for field   6                            \n",
       "TFORM6  = '1D      '           / data format of field: 8-byte DOUBLE            \n",
       "TTYPE7  = 'wavelength'         / label for field   7                            \n",
       "TFORM7  = '1D      '           / data format of field: 8-byte DOUBLE            \n",
       "EXTNAME = '237177970'          / name of this binary table extension            \n",
       "DEC     =             14.19739                                                  \n",
       "FIBER   =                  608                                                  \n",
       "ID      =            237177970                                                  \n",
       "MAGG    =             21.81798                                                  \n",
       "MAGI    =             20.64131                                                  \n",
       "MAGR    =               20.672                                                  \n",
       "MAGU    =             25.51153                                                  \n",
       "MAGZ    =             20.84142                                                  \n",
       "MEANFLUX=                  0.8                                                  \n",
       "MJD     =                56268                                                  \n",
       "NBPIXELS=                 1933                                                  \n",
       "PLATE   =                 6177                                                  \n",
       "RA      =           0.00757855                                                  \n",
       "ZQSO    =                3.711                                                  "
      ]
     },
     "execution_count": 15,
     "metadata": {},
     "output_type": "execute_result"
    }
   ],
   "source": [
    "head1"
   ]
  },
  {
   "cell_type": "code",
   "execution_count": 26,
   "metadata": {},
   "outputs": [
    {
     "data": {
      "text/plain": [
       "3.711"
      ]
     },
     "execution_count": 26,
     "metadata": {},
     "output_type": "execute_result"
    }
   ],
   "source": [
    "head1['ZQSO']"
   ]
  },
  {
   "cell_type": "code",
   "execution_count": 20,
   "metadata": {},
   "outputs": [],
   "source": [
    "dat1 = Table(hdul[1].data)"
   ]
  },
  {
   "cell_type": "code",
   "execution_count": 21,
   "metadata": {},
   "outputs": [
    {
     "data": {
      "text/html": [
       "<i>Table length=1933</i>\n",
       "<table id=\"table139676332101928\" class=\"table-striped table-bordered table-condensed\">\n",
       "<thead><tr><th>continuum</th><th>error</th><th>flux</th><th>fluxNoNoise</th><th>pixelWidth</th><th>psf</th><th>wavelength</th></tr></thead>\n",
       "<thead><tr><th>float64</th><th>float64</th><th>float64</th><th>float64</th><th>float64</th><th>float64</th><th>float64</th></tr></thead>\n",
       "<tr><td>2.526605368979227</td><td>0.18735999188436447</td><td>1.2065722768805516</td><td>1.3529709777609635</td><td>1.1121986313983285</td><td>0.9929189501947807</td><td>4830.21727329365</td></tr>\n",
       "<tr><td>2.541309879246978</td><td>0.1949860373581412</td><td>1.469664559921833</td><td>1.7624436948656401</td><td>1.11245475408238</td><td>0.9927869201977794</td><td>4831.329599979017</td></tr>\n",
       "<tr><td>2.5551526543933076</td><td>0.20433307942003934</td><td>2.3139960577304475</td><td>2.236916835383059</td><td>1.1127109357492355</td><td>0.9926548597984866</td><td>4832.44218281656</td></tr>\n",
       "<tr><td>2.5688228262762416</td><td>0.2075726714053874</td><td>2.6137161945951646</td><td>2.4994019031024144</td><td>1.1129671764097737</td><td>0.9925227689846746</td><td>4833.555021865264</td></tr>\n",
       "<tr><td>2.5819309821864564</td><td>0.2087324900917672</td><td>2.9202673948149473</td><td>2.5669132334120284</td><td>1.1132234760798934</td><td>0.9923906477508354</td><td>4834.668117184132</td></tr>\n",
       "<tr><td>2.5948457969752456</td><td>0.2109844675916417</td><td>2.798056292214234</td><td>2.5621685829654175</td><td>1.1134798347704726</td><td>0.9922584960936935</td><td>4835.781468832179</td></tr>\n",
       "<tr><td>2.606712487829119</td><td>0.2092765435708366</td><td>2.225875193209</td><td>2.514533842529778</td><td>1.11373625249741</td><td>0.9921263140032591</td><td>4836.895076868433</td></tr>\n",
       "<tr><td>2.618303580506611</td><td>0.20686168436631716</td><td>2.2339428816390208</td><td>2.464803396027457</td><td>1.1139927292740939</td><td>0.991994101474015</td><td>4838.008941351935</td></tr>\n",
       "<tr><td>2.6289117902893326</td><td>0.2080926022044228</td><td>2.4778682920364035</td><td>2.4959700579693602</td><td>1.1142492651130762</td><td>0.9918618584967154</td><td>4839.123062341746</td></tr>\n",
       "<tr><td>2.6391964531384997</td><td>0.2101983274101414</td><td>2.449114767964291</td><td>2.5737818304221003</td><td>1.1145058600277453</td><td>0.9917295850680744</td><td>4840.2374398969305</td></tr>\n",
       "<tr><td>...</td><td>...</td><td>...</td><td>...</td><td>...</td><td>...</td><td>...</td></tr>\n",
       "<tr><td>0.8967221393030352</td><td>0.12583862861225073</td><td>1.0046486946025743</td><td>0.8966667502902842</td><td>1.731738675597966</td><td>0.9999999980367541</td><td>7520.845492494465</td></tr>\n",
       "<tr><td>0.8973576578924679</td><td>0.12605999575027416</td><td>0.8922204841054242</td><td>0.8973758540912958</td><td>1.7321374690755291</td><td>0.9999999980357569</td><td>7522.577430555324</td></tr>\n",
       "<tr><td>0.898059438336383</td><td>0.13245801326418666</td><td>0.9963366106496876</td><td>0.8980908322889299</td><td>1.7325363543886358</td><td>0.9999999980362091</td><td>7524.309767455576</td></tr>\n",
       "<tr><td>0.8988603462308746</td><td>0.18373370138555564</td><td>0.934758973398055</td><td>0.8988233611817819</td><td>1.7329353315590423</td><td>0.9999999980371442</td><td>7526.042503287066</td></tr>\n",
       "<tr><td>0.8995233135102835</td><td>0.21738910251471466</td><td>0.9951754287962981</td><td>0.8995455082118767</td><td>1.7333344006085054</td><td>0.9999999980361477</td><td>7527.775638141663</td></tr>\n",
       "<tr><td>0.9002926097696174</td><td>0.19858872791627288</td><td>0.9162676056331214</td><td>0.9002467727506822</td><td>1.7337335615562703</td><td>0.9999999980365999</td><td>7529.509172111257</td></tr>\n",
       "<tr><td>0.9009508403141725</td><td>0.15154089620085573</td><td>0.838690022594057</td><td>0.9011712081917244</td><td>1.7341328144257673</td><td>0.9999999980365694</td><td>7531.243105287757</td></tr>\n",
       "<tr><td>0.9013194360318432</td><td>0.14176476926565562</td><td>0.6683218578533396</td><td>0.9077174627189795</td><td>1.7345321592370786</td><td>0.9999999980375037</td><td>7532.977437763095</td></tr>\n",
       "<tr><td>0.9013642915371903</td><td>0.15022069119191392</td><td>1.145789373500021</td><td>0.9528174975043114</td><td>1.7349315960119602</td><td>0.9999999980369912</td><td>7534.7121696292215</td></tr>\n",
       "<tr><td>0.9021173917145219</td><td>0.14246418486573506</td><td>0.7300042659853956</td><td>1.096226145903319</td><td>1.735331124769659</td><td>0.9999999980369608</td><td>7536.447300978113</td></tr>\n",
       "</table>"
      ],
      "text/plain": [
       "<Table length=1933>\n",
       "    continuum             error        ...        psf             wavelength    \n",
       "     float64             float64       ...      float64            float64      \n",
       "------------------ ------------------- ... ------------------ ------------------\n",
       " 2.526605368979227 0.18735999188436447 ... 0.9929189501947807   4830.21727329365\n",
       " 2.541309879246978  0.1949860373581412 ... 0.9927869201977794  4831.329599979017\n",
       "2.5551526543933076 0.20433307942003934 ... 0.9926548597984866   4832.44218281656\n",
       "2.5688228262762416  0.2075726714053874 ... 0.9925227689846746  4833.555021865264\n",
       "2.5819309821864564  0.2087324900917672 ... 0.9923906477508354  4834.668117184132\n",
       "2.5948457969752456  0.2109844675916417 ... 0.9922584960936935  4835.781468832179\n",
       " 2.606712487829119  0.2092765435708366 ... 0.9921263140032591  4836.895076868433\n",
       " 2.618303580506611 0.20686168436631716 ...  0.991994101474015  4838.008941351935\n",
       "2.6289117902893326  0.2080926022044228 ... 0.9918618584967154  4839.123062341746\n",
       "2.6391964531384997  0.2101983274101414 ... 0.9917295850680744 4840.2374398969305\n",
       "               ...                 ... ...                ...                ...\n",
       "0.8967221393030352 0.12583862861225073 ... 0.9999999980367541  7520.845492494465\n",
       "0.8973576578924679 0.12605999575027416 ... 0.9999999980357569  7522.577430555324\n",
       " 0.898059438336383 0.13245801326418666 ... 0.9999999980362091  7524.309767455576\n",
       "0.8988603462308746 0.18373370138555564 ... 0.9999999980371442  7526.042503287066\n",
       "0.8995233135102835 0.21738910251471466 ... 0.9999999980361477  7527.775638141663\n",
       "0.9002926097696174 0.19858872791627288 ... 0.9999999980365999  7529.509172111257\n",
       "0.9009508403141725 0.15154089620085573 ... 0.9999999980365694  7531.243105287757\n",
       "0.9013194360318432 0.14176476926565562 ... 0.9999999980375037  7532.977437763095\n",
       "0.9013642915371903 0.15022069119191392 ... 0.9999999980369912 7534.7121696292215\n",
       "0.9021173917145219 0.14246418486573506 ... 0.9999999980369608  7536.447300978113"
      ]
     },
     "execution_count": 21,
     "metadata": {},
     "output_type": "execute_result"
    }
   ],
   "source": [
    "dat1"
   ]
  },
  {
   "cell_type": "code",
   "execution_count": 23,
   "metadata": {
    "collapsed": true
   },
   "outputs": [],
   "source": [
    "xspec1 = XSpectrum1D.from_tuple((dat1['wavelength'],dat1['flux'],dat1['error']))"
   ]
  },
  {
   "cell_type": "code",
   "execution_count": 24,
   "metadata": {},
   "outputs": [
    {
     "data": {
      "image/png": "[encoded data removed]",
      "text/plain": [
       "<Figure size 432x288 with 1 Axes>"
      ]
     },
     "metadata": {},
     "output_type": "display_data"
    }
   ],
   "source": [
    "xspec1.plot()"
   ]
  },
  {
   "cell_type": "markdown",
   "metadata": {},
   "source": [
    "### Confirm sampling"
   ]
  },
  {
   "cell_type": "code",
   "execution_count": 25,
   "metadata": {},
   "outputs": [
    {
     "data": {
      "text/latex": [
       "$69.085506 \\; \\mathrm{}$"
      ],
      "text/plain": [
       "<Quantity 69.08550625>"
      ]
     },
     "execution_count": 25,
     "metadata": {},
     "output_type": "execute_result"
    }
   ],
   "source": [
    "dv = (xspec1.wavelength[1]-xspec1.wavelength[0])/xspec1.wavelength[0] * 3e5\n",
    "dv"
   ]
  },
  {
   "cell_type": "markdown",
   "metadata": {},
   "source": [
    "## Generate a catalog"
   ]
  },
  {
   "cell_type": "code",
   "execution_count": 30,
   "metadata": {
    "collapsed": true
   },
   "outputs": [],
   "source": [
    "plate, fiber, ids, ra, dec, zqso = [], [], [], [], [], []\n",
    "for ii in range(1,1001):\n",
    "    head = hdul[ii].header\n",
    "    # Parse\n",
    "    plate.append(head['PLATE'])\n",
    "    fiber.append(head['FIBER'])\n",
    "    ids.append(head['ID'])\n",
    "    ra.append(head['RA'])\n",
    "    dec.append(head['DEC'])\n",
    "    zqso.append(head['ZQSO'])"
   ]
  },
  {
   "cell_type": "code",
   "execution_count": 31,
   "metadata": {},
   "outputs": [
    {
     "data": {
      "text/html": [
       "<i>Table length=1000</i>\n",
       "<table id=\"table139677471263320\" class=\"table-striped table-bordered table-condensed\">\n",
       "<thead><tr><th>PLATE</th><th>FIBER</th><th>ID</th><th>RA</th><th>DEC</th><th>ZQSO</th></tr></thead>\n",
       "<thead><tr><th>int64</th><th>int64</th><th>int64</th><th>float64</th><th>float64</th><th>float64</th></tr></thead>\n",
       "<tr><td>6177</td><td>608</td><td>237177970</td><td>0.00757855</td><td>14.19739</td><td>3.711</td></tr>\n",
       "<tr><td>6172</td><td>618</td><td>254324082</td><td>0.01441924</td><td>16.04823</td><td>2.895</td></tr>\n",
       "<tr><td>6151</td><td>88</td><td>216253500</td><td>0.03118942</td><td>11.70189</td><td>2.831</td></tr>\n",
       "<tr><td>6879</td><td>436</td><td>307802486</td><td>0.0589892</td><td>22.62055</td><td>3.49</td></tr>\n",
       "<tr><td>6207</td><td>134</td><td>261262832</td><td>0.07463909</td><td>16.97546</td><td>2.7</td></tr>\n",
       "<tr><td>4535</td><td>315</td><td>167205949</td><td>0.08947767</td><td>6.371028</td><td>3.539</td></tr>\n",
       "<tr><td>4354</td><td>356</td><td>58771176</td><td>0.09558287</td><td>-2.454577</td><td>2.61</td></tr>\n",
       "<tr><td>6498</td><td>158</td><td>379553452</td><td>0.1029121</td><td>31.32874</td><td>3.239</td></tr>\n",
       "<tr><td>6513</td><td>892</td><td>328118060</td><td>0.1034599</td><td>24.95094</td><td>3.211</td></tr>\n",
       "<tr><td>4535</td><td>316</td><td>167206350</td><td>0.1096689</td><td>6.266202</td><td>2.794</td></tr>\n",
       "<tr><td>...</td><td>...</td><td>...</td><td>...</td><td>...</td><td>...</td></tr>\n",
       "<tr><td>4222</td><td>190</td><td>87781438</td><td>10.59278</td><td>-0.3181683</td><td>2.626</td></tr>\n",
       "<tr><td>4222</td><td>146</td><td>84156765</td><td>10.60645</td><td>-0.6259042</td><td>3.252</td></tr>\n",
       "<tr><td>6529</td><td>282</td><td>372410749</td><td>10.61413</td><td>30.3998</td><td>3.334</td></tr>\n",
       "<tr><td>4222</td><td>931</td><td>104079235</td><td>10.62153</td><td>0.2309039</td><td>3.332</td></tr>\n",
       "<tr><td>6287</td><td>612</td><td>305857683</td><td>10.62517</td><td>22.36497</td><td>3.333</td></tr>\n",
       "<tr><td>4542</td><td>255</td><td>190709983</td><td>10.6297</td><td>8.708451</td><td>2.957</td></tr>\n",
       "<tr><td>6873</td><td>218</td><td>392301986</td><td>10.65898</td><td>33.29388</td><td>2.58</td></tr>\n",
       "<tr><td>4222</td><td>136</td><td>77749905</td><td>10.66154</td><td>-0.7072488</td><td>2.862</td></tr>\n",
       "<tr><td>6197</td><td>70</td><td>237131689</td><td>10.6694</td><td>14.25824</td><td>3.724</td></tr>\n",
       "<tr><td>4304</td><td>852</td><td>132854547</td><td>10.67048</td><td>2.372246</td><td>2.988</td></tr>\n",
       "</table>"
      ],
      "text/plain": [
       "<Table length=1000>\n",
       "PLATE FIBER     ID        RA        DEC       ZQSO \n",
       "int64 int64   int64    float64    float64   float64\n",
       "----- ----- --------- ---------- ---------- -------\n",
       " 6177   608 237177970 0.00757855   14.19739   3.711\n",
       " 6172   618 254324082 0.01441924   16.04823   2.895\n",
       " 6151    88 216253500 0.03118942   11.70189   2.831\n",
       " 6879   436 307802486  0.0589892   22.62055    3.49\n",
       " 6207   134 261262832 0.07463909   16.97546     2.7\n",
       " 4535   315 167205949 0.08947767   6.371028   3.539\n",
       " 4354   356  58771176 0.09558287  -2.454577    2.61\n",
       " 6498   158 379553452  0.1029121   31.32874   3.239\n",
       " 6513   892 328118060  0.1034599   24.95094   3.211\n",
       " 4535   316 167206350  0.1096689   6.266202   2.794\n",
       "  ...   ...       ...        ...        ...     ...\n",
       " 4222   190  87781438   10.59278 -0.3181683   2.626\n",
       " 4222   146  84156765   10.60645 -0.6259042   3.252\n",
       " 6529   282 372410749   10.61413    30.3998   3.334\n",
       " 4222   931 104079235   10.62153  0.2309039   3.332\n",
       " 6287   612 305857683   10.62517   22.36497   3.333\n",
       " 4542   255 190709983    10.6297   8.708451   2.957\n",
       " 6873   218 392301986   10.65898   33.29388    2.58\n",
       " 4222   136  77749905   10.66154 -0.7072488   2.862\n",
       " 6197    70 237131689    10.6694   14.25824   3.724\n",
       " 4304   852 132854547   10.67048   2.372246   2.988"
      ]
     },
     "execution_count": 31,
     "metadata": {},
     "output_type": "execute_result"
    }
   ],
   "source": [
    "cat = Table()\n",
    "cat['PLATE'] = plate\n",
    "cat['FIBER'] = fiber\n",
    "cat['ID'] = ids\n",
    "cat['RA'] = ra\n",
    "cat['DEC'] = dec\n",
    "cat['ZQSO'] = zqso\n",
    "#\n",
    "cat"
   ]
  },
  {
   "cell_type": "markdown",
   "metadata": {},
   "source": [
    "### Write"
   ]
  },
  {
   "cell_type": "code",
   "execution_count": 32,
   "metadata": {
    "collapsed": true
   },
   "outputs": [],
   "source": [
    "cat.write(spec_path+'catalog_1000.fits', overwrite=True)"
   ]
  },
  {
   "cell_type": "code",
   "execution_count": null,
   "metadata": {
    "collapsed": true
   },
   "outputs": [],
   "source": []
  }
 ],
 "metadata": {
  "kernelspec": {
   "display_name": "Python 3",
   "language": "python",
   "name": "python3"
  },
  "language_info": {
   "codemirror_mode": {
    "name": "ipython",
    "version": 3
   },
   "file_extension": ".py",
   "mimetype": "text/x-python",
   "name": "python",
   "nbconvert_exporter": "python",
   "pygments_lexer": "ipython3",
   "version": "3.6.5"
  }
 },
 "nbformat": 4,
 "nbformat_minor": 2
}
