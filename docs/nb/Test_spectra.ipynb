{
 "cells": [
  {
   "cell_type": "markdown",
   "metadata": {},
   "source": [
    "# Test spectra"
   ]
  },
  {
   "cell_type": "code",
   "execution_count": 15,
   "metadata": {},
   "outputs": [],
   "source": [
    "# imports\n",
    "import numpy as np\n",
    "\n",
    "from astropy import units\n",
    "\n",
    "from specdb import specdb"
   ]
  },
  {
   "cell_type": "markdown",
   "metadata": {},
   "source": [
    "# IGM Spec"
   ]
  },
  {
   "cell_type": "code",
   "execution_count": 2,
   "metadata": {},
   "outputs": [
    {
     "name": "stdout",
     "output_type": "stream",
     "text": [
      "Loading igmspec from /u/xavier/SPECDB/IGMspec_DB_v02.1.hdf5\n",
      "Database is igmspec\n",
      "Created on 2017-Sep-18\n",
      "Version: v02.1\n"
     ]
    },
    {
     "name": "stderr",
     "output_type": "stream",
     "text": [
      "/home/xavier/anaconda3/lib/python3.7/site-packages/h5py/_hl/dataset.py:313: H5pyDeprecationWarning: dataset.value has been deprecated. Use dataset[()] instead.\n",
      "  \"Use dataset[()] instead.\", H5pyDeprecationWarning)\n"
     ]
    }
   ],
   "source": [
    "igmsp = specdb.IgmSpec()"
   ]
  },
  {
   "cell_type": "markdown",
   "metadata": {},
   "source": [
    "# BOSS 3758-55506-0325 (analyzed by Ahmed with IG)"
   ]
  },
  {
   "cell_type": "code",
   "execution_count": 5,
   "metadata": {},
   "outputs": [
    {
     "name": "stderr",
     "output_type": "stream",
     "text": [
      "/home/xavier/anaconda3/lib/python3.7/site-packages/h5py/_hl/dataset.py:313: H5pyDeprecationWarning: dataset.value has been deprecated. Use dataset[()] instead.\n",
      "  \"Use dataset[()] instead.\", H5pyDeprecationWarning)\n",
      "WARNING: MergeConflictWarning: Cannot merge meta key 'group' types <class 'str'> and <class 'str'>, choosing group='SDSS_DR7' [astropy.utils.metadata]\n"
     ]
    },
    {
     "name": "stdout",
     "output_type": "stream",
     "text": [
      "Grabbing data for J081240.6883+320808.5896\n",
      "Your search yielded 1 match[es] within radius=0.5 arcsec\n",
      "Staged 1 spectra totalling 9.3e-05 Gb\n",
      "Loaded spectra\n",
      "Staged 1 spectra totalling 8e-05 Gb\n",
      "Loaded spectra\n"
     ]
    },
    {
     "name": "stderr",
     "output_type": "stream",
     "text": [
      "/home/xavier/local/Python/linetools/linetools/spectra/xspectrum1d.py:253: UserWarning: No unit given to wavelength, assuming Angstroms.\n",
      "  warnings.warn(\"No unit given to wavelength, assuming Angstroms.\")\n",
      "/home/xavier/local/Python/linetools/linetools/spectra/xspectrum1d.py:253: UserWarning: No unit given to wavelength, assuming Angstroms.\n",
      "  warnings.warn(\"No unit given to wavelength, assuming Angstroms.\")\n"
     ]
    }
   ],
   "source": [
    "xspec, meta = igmsp.get_sdss(3758, 325)"
   ]
  },
  {
   "cell_type": "code",
   "execution_count": 6,
   "metadata": {},
   "outputs": [
    {
     "data": {
      "text/html": [
       "<i>Table masked=True length=2</i>\n",
       "<table id=\"table139838704681312\" class=\"table-striped table-bordered table-condensed\">\n",
       "<thead><tr><th>RA_GROUP</th><th>DEC_GROUP</th><th>THING_ID</th><th>PLATE</th><th>MJD</th><th>FIBERID</th><th>Z_VI</th><th>Z_PIPE</th><th>ERR_ZPIPE</th><th>ZWARNING</th><th>Z_PCA</th><th>ERR_ZPCA</th><th>PCA_QUAL</th><th>Z_CIV</th><th>Z_CIII</th><th>Z_MGII</th><th>SDSS_MORPHO</th><th>BOSS_TARGET1</th><th>ANCILLARY_TARGET1</th><th>ANCILLARY_TARGET2</th><th>EBOSS_TARGET0</th><th>NSPEC_BOSS</th><th>PLATE_DUPLICATE [32]</th><th>MJD_DUPLICATE [32]</th><th>FIBERID_DUPLICATE [32]</th><th>SDSS_DR7</th><th>PLATE_DR7</th><th>MJD_DR7</th><th>FIBERID_DR7</th><th>UNIFORM</th><th>ALPHA_NU</th><th>SNR_SPEC</th><th>SNR_DUPLICATE [32]</th><th>SNR_1700</th><th>SNR_3000</th><th>SNR_5150</th><th>FWHM_CIV</th><th>BHWHM_CIV</th><th>RHWHM_CIV</th><th>AMP_CIV</th><th>REWE_CIV</th><th>ERR_REWE_CIV</th><th>FWHM_CIII</th><th>BHWHM_CIII</th><th>RHWHM_CIII</th><th>AMP_CIII</th><th>REWE_CIII</th><th>ERR_REWE_CIII</th><th>FWHM_MGII</th><th>BHWHM_MGII</th><th>RHWHM_MGII</th><th>AMP_MGII</th><th>REWE_MGII</th><th>ERR_REWE_MGII</th><th>BAL_FLAG_VI</th><th>BI_CIV</th><th>ERR_BI_CIV</th><th>AI_CIV</th><th>ERR_AI_CIV</th><th>CHI2TROUGH</th><th>NCIV_2000</th><th>VMIN_CIV_2000</th><th>VMAX_CIV_2000</th><th>NCIV_450</th><th>VMIN_CIV_450</th><th>VMAX_CIV_450</th><th>REW_SIIV</th><th>REW_CIV</th><th>REW_ALIII</th><th>RUN_NUMBER</th><th>PHOTO_MJD</th><th>COL_NUMBER</th><th>FIELD_NUMBER</th><th>PSFFLUX [5]</th><th>IVAR_PSFFLUX [5]</th><th>PSFMAG [5]</th><th>ERR_PSFMAG [5]</th><th>TARGET_FLUX [5]</th><th>MI</th><th>DGMI</th><th>EXTINCTION [5]</th><th>EXTINCTION_RECAL [5]</th><th>HI_GAL</th><th>VAR_MATCHED</th><th>VAR_CHI2</th><th>VAR_A</th><th>VAR_GAMMA</th><th>RASS_COUNTS</th><th>RASS_COUNTS_SNR</th><th>SDSS2ROSAT_SEP</th><th>N_DETECTION_XMM</th><th>FLUX02_12KEV_SGL</th><th>ERR_FLUX02_12KEV_SGL</th><th>FLUX02_2KEV</th><th>ERR_FLUX02_2KEV</th><th>FLUX2_12KEV</th><th>ERR_FLUX2_12KEV</th><th>FLUX02_12KEV</th><th>ERR_FLUX02_12KEV</th><th>LUM02_2KEV_SGL</th><th>LUM05_2KEV</th><th>LUM2_12KEV</th><th>LUM02_2KEV</th><th>LUMX2_10_UPPER</th><th>SDSS2XMM_SEP</th><th>GALEX_MATCHED</th><th>FUV</th><th>FUV_IVAR</th><th>NUV</th><th>NUV_IVAR</th><th>JMAG</th><th>ERR_JMAG</th><th>JSNR</th><th>JRDFLAG</th><th>HMAG</th><th>ERR_HMAG</th><th>HSNR</th><th>HRDFLAG</th><th>KMAG</th><th>ERR_KMAG</th><th>KSNR</th><th>KRDFLAG</th><th>SDSS2MASS_SEP</th><th>W1MAG</th><th>ERR_W1MAG</th><th>W1SNR</th><th>W1CHI2</th><th>W2MAG</th><th>ERR_W2MAG</th><th>W2SNR</th><th>W2CHI2</th><th>W3MAG</th><th>ERR_W3MAG</th><th>W3SNR</th><th>W3CHI2</th><th>W4MAG</th><th>ERR_W4MAG</th><th>W4SNR</th><th>W4CHI2</th><th>SDSS2WISE_SEP</th><th>UKIDSS_MATCHED</th><th>YFLUX</th><th>YFLUX_ERR</th><th>JFLUX</th><th>JFLUX_ERR</th><th>HFLUX</th><th>HFLUX_ERR</th><th>KFLUX</th><th>KFLUX_ERR</th><th>FIRST_MATCHED</th><th>FIRST_FLUX</th><th>FIRST_SNR</th><th>SDSS2FIRST_SEP</th><th>R</th><th>zem_GROUP</th><th>sig_zem</th><th>IGM_ID</th><th>NPIX</th><th>WV_MIN</th><th>WV_MAX</th><th>GROUP_ID</th><th>EPOCH</th><th>SDSS_NAME</th><th>RERUN_NUMBER</th><th>OBJ_ID</th><th>CC_FLAGS</th><th>PH_FLAG</th><th>DATE-OBS</th><th>flag_zem</th><th>STYPE</th><th>SPEC_FILE</th><th>CAT</th><th>INSTR</th><th>DISPERSER</th><th>TELESCOPE</th><th>GROUP</th><th>UMAG</th><th>UMAGERR</th><th>GMAG</th><th>GMAGERR</th><th>RMAG</th><th>RMAGERR</th><th>IMAG</th><th>IMAGERR</th><th>ZMAG</th><th>ZMAGERR</th><th>AU</th><th>logNH</th><th>FIRSTMAG</th><th>FIRSTSN</th><th>FIRSTDEL</th><th>RASSCNT</th><th>RASSSN</th><th>RASSDEL</th><th>JMAGERR</th><th>HMAGERR</th><th>KMAGERR</th><th>MASSDEL</th><th>MASSFLG</th><th>MIMAG</th><th>MFLAG</th><th>SPFLAG</th><th>MODEFLAG</th><th>USELFLAG</th><th>BESTFLAG</th><th>LZFLAG</th><th>HZFLAG</th><th>FTFLAG</th><th>RTFLAG</th><th>SRFLAG</th><th>STFLAG</th><th>GXFLAG</th><th>RUN</th><th>RMJD</th><th>SMJD</th><th>RERUN</th><th>CAMCOL</th><th>FIELD</th><th>OBJECT</th><th>TFLAG</th><th>LZTFLAG</th><th>HZTFLAG</th><th>FTTFLAG</th><th>RTTFLAG</th><th>SRTFLAG</th><th>STTFLAG</th><th>GXTFLAG</th><th>UTMAG</th><th>UTMAGERR</th><th>GTMAG</th><th>GTMAGERR</th><th>RTMAG</th><th>RTMAGERR</th><th>ITMAG</th><th>ITMAGERR</th><th>ZTMAG</th><th>ZTMAGERR</th><th>SDSSJ</th><th>BESTID</th><th>SPECOID</th><th>ONAME</th></tr></thead>\n",
       "<thead><tr><th>float64</th><th>float64</th><th>int32</th><th>int32</th><th>int32</th><th>int32</th><th>float64</th><th>float64</th><th>float64</th><th>int32</th><th>float64</th><th>float64</th><th>float64</th><th>float64</th><th>float64</th><th>float64</th><th>int32</th><th>int64</th><th>int64</th><th>int64</th><th>int64</th><th>int32</th><th>int32</th><th>int32</th><th>int32</th><th>int32</th><th>int32</th><th>int32</th><th>int32</th><th>int16</th><th>float64</th><th>float64</th><th>float64</th><th>float64</th><th>float64</th><th>float64</th><th>float64</th><th>float64</th><th>float64</th><th>float64</th><th>float64</th><th>float64</th><th>float64</th><th>float64</th><th>float64</th><th>float64</th><th>float64</th><th>float64</th><th>float64</th><th>float64</th><th>float64</th><th>float64</th><th>float64</th><th>float64</th><th>int32</th><th>float64</th><th>float64</th><th>float64</th><th>float64</th><th>float64</th><th>int32</th><th>float64</th><th>float64</th><th>int32</th><th>float64</th><th>float64</th><th>float64</th><th>float64</th><th>float64</th><th>int16</th><th>int32</th><th>int16</th><th>int16</th><th>float64</th><th>float64</th><th>float64</th><th>float64</th><th>float64</th><th>float64</th><th>float64</th><th>float64</th><th>float32</th><th>float64</th><th>int16</th><th>float64</th><th>float64</th><th>float64</th><th>float64</th><th>float64</th><th>float64</th><th>int16</th><th>float64</th><th>float64</th><th>float64</th><th>float64</th><th>float64</th><th>float64</th><th>float64</th><th>float64</th><th>float64</th><th>float64</th><th>float64</th><th>float64</th><th>int16</th><th>float64</th><th>int16</th><th>float64</th><th>float64</th><th>float64</th><th>float64</th><th>float64</th><th>float64</th><th>float64</th><th>int32</th><th>float64</th><th>float64</th><th>float64</th><th>int32</th><th>float64</th><th>float64</th><th>float64</th><th>int32</th><th>float64</th><th>float64</th><th>float64</th><th>float64</th><th>float64</th><th>float64</th><th>float64</th><th>float64</th><th>float64</th><th>float64</th><th>float64</th><th>float64</th><th>float64</th><th>float64</th><th>float64</th><th>float64</th><th>float64</th><th>float64</th><th>int16</th><th>float32</th><th>float32</th><th>float32</th><th>float32</th><th>float32</th><th>float32</th><th>float32</th><th>float32</th><th>int16</th><th>float64</th><th>float64</th><th>float64</th><th>float64</th><th>float64</th><th>float64</th><th>int64</th><th>int64</th><th>float64</th><th>float64</th><th>int64</th><th>float64</th><th>str18</th><th>str3</th><th>str19</th><th>str4</th><th>str4</th><th>str10</th><th>str10</th><th>str3</th><th>str28</th><th>str5</th><th>str4</th><th>str4</th><th>str10</th><th>str9</th><th>float64</th><th>float64</th><th>float64</th><th>float64</th><th>float64</th><th>float64</th><th>float64</th><th>float64</th><th>float64</th><th>float64</th><th>float64</th><th>float64</th><th>float64</th><th>float64</th><th>float64</th><th>float64</th><th>float64</th><th>float64</th><th>float64</th><th>float64</th><th>float64</th><th>float64</th><th>int32</th><th>float64</th><th>int32</th><th>int32</th><th>int32</th><th>int32</th><th>int32</th><th>int32</th><th>int32</th><th>int32</th><th>int32</th><th>int32</th><th>int32</th><th>int32</th><th>int32</th><th>int32</th><th>int32</th><th>int32</th><th>int32</th><th>int32</th><th>int32</th><th>int32</th><th>int32</th><th>int32</th><th>int32</th><th>int32</th><th>int32</th><th>int32</th><th>int32</th><th>float64</th><th>float64</th><th>float64</th><th>float64</th><th>float64</th><th>float64</th><th>float64</th><th>float64</th><th>float64</th><th>float64</th><th>str31</th><th>str31</th><th>str31</th><th>str31</th></tr></thead>\n",
       "<tr><td>123.16953</td><td>32.13572</td><td>384781327</td><td>3758</td><td>55506</td><td>325</td><td>2.703</td><td>2.6374123096466064</td><td>0.00015890129725448787</td><td>0</td><td>2.697578720830657</td><td>0.0003574615779813049</td><td>0.026155431179240782</td><td>2.704505720602187</td><td>2.7029945245418987</td><td>-1.0</td><td>0</td><td>266240</td><td>0</td><td>0</td><td>0</td><td>0</td><td>-1 .. -1</td><td>-1 .. -1</td><td>-1 .. -1</td><td>1</td><td>861</td><td>52318</td><td>333</td><td>0</td><td>-0.8178857896481284</td><td>6.156745387250291</td><td>-1.0 .. -1.0</td><td>5.681186063803291</td><td>-1.0</td><td>-1.0</td><td>4935.426963366292</td><td>1595.1388867824605</td><td>3340.2880765838313</td><td>19.591044968511703</td><td>20.523380707154615</td><td>0.6534829236115424</td><td>5910.437886548167</td><td>2195.7174286524596</td><td>3714.7204578957076</td><td>12.863078986417264</td><td>17.215005252668895</td><td>0.7764876897994776</td><td>-1.0</td><td>-1.0</td><td>-1.0</td><td>-1.0</td><td>-1.0</td><td>-1.0</td><td>0</td><td>0.0</td><td>0.0</td><td>185.94864434998513</td><td>0.7389136882662779</td><td>155.00198927058653</td><td>0</td><td>0.0</td><td>0.0</td><td>1</td><td>5656.380316931245</td><td>6582.151793161423</td><td>0.0</td><td>0.0</td><td>0.0</td><td>2864</td><td>52283</td><td>4</td><td>106</td><td>13.95168685913086 .. 139.54730224609375</td><td>8.567556381225586 .. 0.07690779864788055</td><td>19.638324737548828 .. 17.138166427612305</td><td>0.02658163383603096 .. 0.028053900226950645</td><td>13.95168685913086 .. 139.54730224609375</td><td>-28.903172455573078</td><td>0.40659065544605255</td><td>0.22736363112926483 .. 0.06523196399211884</td><td>0.14996473 .. 0.044681635</td><td>21.830925324877413</td><td>4</td><td>6.330904483795166</td><td>0.0722120925784111</td><td>-0.013409385457634926</td><td>0.0</td><td>0.0</td><td>0.0</td><td>0</td><td>0.0</td><td>0.0</td><td>0.0</td><td>0.0</td><td>0.0</td><td>0.0</td><td>0.0</td><td>0.0</td><td>0.0</td><td>0.0</td><td>0.0</td><td>0.0</td><td>0</td><td>0.0</td><td>1</td><td>-0.28970351815223694</td><td>39.84116635489828</td><td>0.026381293311715126</td><td>298.14774190413385</td><td>0.0</td><td>0.0</td><td>0.0</td><td>0</td><td>0.0</td><td>0.0</td><td>0.0</td><td>0</td><td>0.0</td><td>0.0</td><td>0.0</td><td>0</td><td>0.0</td><td>14.369</td><td>0.029999999329447746</td><td>36.6</td><td>1.039</td><td>13.519</td><td>0.03200000151991844</td><td>33.6</td><td>1.066</td><td>10.282</td><td>0.07699999958276749</td><td>14.1</td><td>0.8779</td><td>8.198</td><td>0.2639999985694885</td><td>4.1</td><td>0.0</td><td>0.059281163088407585</td><td>0</td><td>0.0</td><td>0.0</td><td>0.0</td><td>0.0</td><td>0.0</td><td>0.0</td><td>0.0</td><td>0.0</td><td>1</td><td>18.31999969482422</td><td>123.57071685266787</td><td>0.10267798640089937</td><td>2100.0</td><td>2.698</td><td>0.0003574615779813049</td><td>50676</td><td>4607</td><td>3569.4</td><td>10308.6</td><td>50726</td><td>2000.0</td><td>081240.68+320808.5</td><td>301</td><td>1237657775537520843</td><td>0000</td><td>AAAB</td><td>2010-11-06</td><td>BOSS_PCA</td><td>QSO</td><td>spec-3758-55506-0325.fits.gz</td><td>DR12Q</td><td>BOSS</td><td>BOTH</td><td>SDSS 2.5-M</td><td>BOSS_DR12</td><td>--</td><td>--</td><td>--</td><td>--</td><td>--</td><td>--</td><td>--</td><td>--</td><td>--</td><td>--</td><td>--</td><td>--</td><td>--</td><td>--</td><td>--</td><td>--</td><td>--</td><td>--</td><td>--</td><td>--</td><td>--</td><td>--</td><td>--</td><td>--</td><td>--</td><td>--</td><td>--</td><td>--</td><td>--</td><td>--</td><td>--</td><td>--</td><td>--</td><td>--</td><td>--</td><td>--</td><td>--</td><td>--</td><td>--</td><td>--</td><td>--</td><td>--</td><td>--</td><td>--</td><td>--</td><td>--</td><td>--</td><td>--</td><td>--</td><td>--</td><td>--</td><td>--</td><td>--</td><td>--</td><td>--</td><td>--</td><td>--</td><td>--</td><td>--</td><td>--</td><td>--</td><td>--</td><td>--</td><td>--</td><td>--</td></tr>\n",
       "<tr><td>123.16953</td><td>32.13572</td><td>--</td><td>861</td><td>--</td><td>333</td><td>--</td><td>--</td><td>--</td><td>--</td><td>--</td><td>--</td><td>--</td><td>--</td><td>--</td><td>--</td><td>--</td><td>--</td><td>--</td><td>--</td><td>--</td><td>--</td><td>-- .. --</td><td>-- .. --</td><td>-- .. --</td><td>--</td><td>--</td><td>--</td><td>--</td><td>--</td><td>--</td><td>--</td><td>-- .. --</td><td>--</td><td>--</td><td>--</td><td>--</td><td>--</td><td>--</td><td>--</td><td>--</td><td>--</td><td>--</td><td>--</td><td>--</td><td>--</td><td>--</td><td>--</td><td>--</td><td>--</td><td>--</td><td>--</td><td>--</td><td>--</td><td>--</td><td>--</td><td>--</td><td>--</td><td>--</td><td>--</td><td>--</td><td>--</td><td>--</td><td>--</td><td>--</td><td>--</td><td>--</td><td>--</td><td>--</td><td>--</td><td>--</td><td>--</td><td>--</td><td>-- .. --</td><td>-- .. --</td><td>-- .. --</td><td>-- .. --</td><td>-- .. --</td><td>--</td><td>0.382</td><td>-- .. --</td><td>-- .. --</td><td>--</td><td>--</td><td>--</td><td>--</td><td>--</td><td>--</td><td>--</td><td>--</td><td>--</td><td>--</td><td>--</td><td>--</td><td>--</td><td>--</td><td>--</td><td>--</td><td>--</td><td>--</td><td>--</td><td>--</td><td>--</td><td>--</td><td>--</td><td>--</td><td>--</td><td>--</td><td>--</td><td>--</td><td>16.186</td><td>--</td><td>--</td><td>--</td><td>15.885</td><td>--</td><td>--</td><td>--</td><td>15.313</td><td>--</td><td>--</td><td>--</td><td>--</td><td>--</td><td>--</td><td>--</td><td>--</td><td>--</td><td>--</td><td>--</td><td>--</td><td>--</td><td>--</td><td>--</td><td>--</td><td>--</td><td>--</td><td>--</td><td>--</td><td>--</td><td>--</td><td>--</td><td>--</td><td>--</td><td>--</td><td>--</td><td>--</td><td>--</td><td>--</td><td>--</td><td>--</td><td>--</td><td>--</td><td>2000.0</td><td>2.703</td><td>0.0</td><td>50676</td><td>3821</td><td>3823.8</td><td>9215.1</td><td>14139</td><td>2000.0</td><td>--</td><td>--</td><td>--</td><td>--</td><td>--</td><td>2002-02-13</td><td>SDSS-HW</td><td>QSO</td><td>spSpec-52318-0861-333.fit.gz</td><td>--</td><td>SDSS</td><td>BOTH</td><td>SDSS 2.5-M</td><td>SDSS_DR7</td><td>19.633</td><td>0.028</td><td>17.849</td><td>0.018</td><td>17.455</td><td>0.021</td><td>17.282</td><td>0.019</td><td>17.139</td><td>0.028</td><td>0.227</td><td>20.654</td><td>13.243</td><td>125.479</td><td>0.102</td><td>-9.0</td><td>0.0</td><td>0.0</td><td>0.095</td><td>0.144</td><td>0.164</td><td>0.386</td><td>13</td><td>-28.859</td><td>0</td><td>1</td><td>1</td><td>1</td><td>11</td><td>1</td><td>1</td><td>1</td><td>0</td><td>0</td><td>0</td><td>0</td><td>2864</td><td>52283</td><td>52318</td><td>40</td><td>4</td><td>106</td><td>38</td><td>11</td><td>1</td><td>1</td><td>1</td><td>0</td><td>0</td><td>0</td><td>0</td><td>19.67</td><td>0.027</td><td>17.858</td><td>0.015</td><td>17.459</td><td>0.014</td><td>17.281</td><td>0.015</td><td>17.138</td><td>0.018</td><td>081240.68+320808.5</td><td>587732054312615974</td><td>242574660443570176</td><td>FBQS J081240.6+320808</td></tr>\n",
       "</table>"
      ],
      "text/plain": [
       "<Table masked=True length=2>\n",
       " RA_GROUP DEC_GROUP  THING_ID ...      SPECOID                ONAME         \n",
       " float64   float64    int32   ...       str31                 str31         \n",
       "--------- --------- --------- ... ------------------ -----------------------\n",
       "123.16953  32.13572 384781327 ...                 --                      --\n",
       "123.16953  32.13572        -- ... 242574660443570176  FBQS J081240.6+320808 "
      ]
     },
     "execution_count": 6,
     "metadata": {},
     "output_type": "execute_result"
    }
   ],
   "source": [
    "meta"
   ]
  },
  {
   "cell_type": "markdown",
   "metadata": {},
   "source": [
    "## Save with numpy"
   ]
  },
  {
   "cell_type": "code",
   "execution_count": 8,
   "metadata": {},
   "outputs": [],
   "source": [
    "np.savez('first_spectrum_for_sam', wave=xspec[0].wavelength.value, flux=xspec[0].flux.value)"
   ]
  },
  {
   "cell_type": "markdown",
   "metadata": {},
   "source": [
    "----"
   ]
  },
  {
   "cell_type": "markdown",
   "metadata": {},
   "source": [
    "# More examples"
   ]
  },
  {
   "cell_type": "markdown",
   "metadata": {},
   "source": [
    "## With DLAs"
   ]
  },
  {
   "cell_type": "code",
   "execution_count": 3,
   "metadata": {},
   "outputs": [
    {
     "name": "stdout",
     "output_type": "stream",
     "text": [
      "Grabbing data for J205922.4268-052842.7944\n",
      "Your search yielded 1 match[es] within radius=0.5 arcsec\n",
      "Staged 1 spectra totalling 8e-05 Gb\n",
      "Loaded spectra\n"
     ]
    },
    {
     "name": "stderr",
     "output_type": "stream",
     "text": [
      "WARNING: MergeConflictWarning: Cannot merge meta key 'group' types <class 'str'> and <class 'str'>, choosing group='SDSS_DR7' [astropy.utils.metadata]\n",
      "/home/xavier/local/Python/linetools/linetools/spectra/xspectrum1d.py:253: UserWarning: No unit given to wavelength, assuming Angstroms.\n",
      "  warnings.warn(\"No unit given to wavelength, assuming Angstroms.\")\n"
     ]
    }
   ],
   "source": [
    "xspec, meta = igmsp.get_sdss(636, 610)"
   ]
  },
  {
   "cell_type": "code",
   "execution_count": 4,
   "metadata": {},
   "outputs": [
    {
     "name": "stdout",
     "output_type": "stream",
     "text": [
      "Your search yielded 1 match[es] within radius=0.5 arcsec\n"
     ]
    },
    {
     "name": "stderr",
     "output_type": "stream",
     "text": [
      "/home/xavier/anaconda3/lib/python3.7/site-packages/h5py/_hl/dataset.py:313: H5pyDeprecationWarning: dataset.value has been deprecated. Use dataset[()] instead.\n",
      "  \"Use dataset[()] instead.\", H5pyDeprecationWarning)\n"
     ]
    },
    {
     "name": "stdout",
     "output_type": "stream",
     "text": [
      "Staged 1 spectra totalling 9.3e-05 Gb\n",
      "Loaded spectra\n",
      "Staged 1 spectra totalling 0.0008 Gb\n",
      "Loaded spectra\n",
      "Staged 1 spectra totalling 0.003072 Gb\n",
      "Loaded spectra\n",
      "Staged 1 spectra totalling 0.0032 Gb\n",
      "Loaded spectra\n"
     ]
    },
    {
     "name": "stderr",
     "output_type": "stream",
     "text": [
      "/home/xavier/local/Python/linetools/linetools/spectra/xspectrum1d.py:253: UserWarning: No unit given to wavelength, assuming Angstroms.\n",
      "  warnings.warn(\"No unit given to wavelength, assuming Angstroms.\")\n",
      "/home/xavier/local/Python/linetools/linetools/spectra/xspectrum1d.py:253: UserWarning: No unit given to wavelength, assuming Angstroms.\n",
      "  warnings.warn(\"No unit given to wavelength, assuming Angstroms.\")\n",
      "/home/xavier/local/Python/linetools/linetools/spectra/xspectrum1d.py:253: UserWarning: No unit given to wavelength, assuming Angstroms.\n",
      "  warnings.warn(\"No unit given to wavelength, assuming Angstroms.\")\n",
      "/home/xavier/local/Python/linetools/linetools/spectra/xspectrum1d.py:253: UserWarning: No unit given to wavelength, assuming Angstroms.\n",
      "  warnings.warn(\"No unit given to wavelength, assuming Angstroms.\")\n",
      "/home/xavier/local/Python/linetools/linetools/spectra/xspectrum1d.py:222: RuntimeWarning: invalid value encountered in greater\n",
      "  gdsigval = np.where(self.data['sig'][kk].data > 0.)[0]\n",
      "/home/xavier/local/Python/linetools/linetools/spectra/xspectrum1d.py:223: RuntimeWarning: invalid value encountered in less_equal\n",
      "  badsigval = self.data['sig'][kk].data <= 0.\n",
      "/home/xavier/local/Python/linetools/linetools/spectra/xspectrum1d.py:253: UserWarning: No unit given to wavelength, assuming Angstroms.\n",
      "  warnings.warn(\"No unit given to wavelength, assuming Angstroms.\")\n",
      "/home/xavier/local/Python/linetools/linetools/spectra/xspectrum1d.py:253: UserWarning: No unit given to wavelength, assuming Angstroms.\n",
      "  warnings.warn(\"No unit given to wavelength, assuming Angstroms.\")\n",
      "/home/xavier/anaconda3/lib/python3.7/site-packages/astropy/units/quantity.py:466: RuntimeWarning: invalid value encountered in greater\n",
      "  result = super().__array_ufunc__(function, method, *arrays, **kwargs)\n"
     ]
    },
    {
     "name": "stdout",
     "output_type": "stream",
     "text": [
      "Staged 1 spectra totalling 0.00368 Gb\n",
      "Loaded spectra\n",
      "Staged 1 spectra totalling 8e-05 Gb\n",
      "Loaded spectra\n"
     ]
    },
    {
     "name": "stderr",
     "output_type": "stream",
     "text": [
      "/home/xavier/local/Python/linetools/linetools/spectra/xspectrum1d.py:222: RuntimeWarning: invalid value encountered in greater\n",
      "  gdsigval = np.where(self.data['sig'][kk].data > 0.)[0]\n",
      "/home/xavier/local/Python/linetools/linetools/spectra/xspectrum1d.py:223: RuntimeWarning: invalid value encountered in less_equal\n",
      "  badsigval = self.data['sig'][kk].data <= 0.\n"
     ]
    }
   ],
   "source": [
    "xspec1, meta = igmsp.spectra_from_coord('J130426.15+120245.5')"
   ]
  },
  {
   "cell_type": "code",
   "execution_count": 6,
   "metadata": {},
   "outputs": [
    {
     "data": {
      "text/html": [
       "<i>Table masked=True length=6</i>\n",
       "<table id=\"table140035126290864\" class=\"table-striped table-bordered table-condensed\">\n",
       "<thead><tr><th>RA_GROUP</th><th>DEC_GROUP</th><th>THING_ID</th><th>PLATE</th><th>MJD</th><th>FIBERID</th><th>Z_VI</th><th>Z_PIPE</th><th>ERR_ZPIPE</th><th>ZWARNING</th><th>Z_PCA</th><th>ERR_ZPCA</th><th>PCA_QUAL</th><th>Z_CIV</th><th>Z_CIII</th><th>Z_MGII</th><th>SDSS_MORPHO</th><th>BOSS_TARGET1</th><th>ANCILLARY_TARGET1</th><th>ANCILLARY_TARGET2</th><th>EBOSS_TARGET0</th><th>NSPEC_BOSS</th><th>PLATE_DUPLICATE [32]</th><th>MJD_DUPLICATE [32]</th><th>FIBERID_DUPLICATE [32]</th><th>SDSS_DR7</th><th>PLATE_DR7</th><th>MJD_DR7</th><th>FIBERID_DR7</th><th>UNIFORM</th><th>ALPHA_NU</th><th>SNR_SPEC</th><th>SNR_DUPLICATE [32]</th><th>SNR_1700</th><th>SNR_3000</th><th>SNR_5150</th><th>FWHM_CIV</th><th>BHWHM_CIV</th><th>RHWHM_CIV</th><th>AMP_CIV</th><th>REWE_CIV</th><th>ERR_REWE_CIV</th><th>FWHM_CIII</th><th>BHWHM_CIII</th><th>RHWHM_CIII</th><th>AMP_CIII</th><th>REWE_CIII</th><th>ERR_REWE_CIII</th><th>FWHM_MGII</th><th>BHWHM_MGII</th><th>RHWHM_MGII</th><th>AMP_MGII</th><th>REWE_MGII</th><th>ERR_REWE_MGII</th><th>BAL_FLAG_VI</th><th>BI_CIV</th><th>ERR_BI_CIV</th><th>AI_CIV</th><th>ERR_AI_CIV</th><th>CHI2TROUGH</th><th>NCIV_2000</th><th>VMIN_CIV_2000</th><th>VMAX_CIV_2000</th><th>NCIV_450</th><th>VMIN_CIV_450</th><th>VMAX_CIV_450</th><th>REW_SIIV</th><th>REW_CIV</th><th>REW_ALIII</th><th>RUN_NUMBER</th><th>PHOTO_MJD</th><th>COL_NUMBER</th><th>FIELD_NUMBER</th><th>PSFFLUX [5]</th><th>IVAR_PSFFLUX [5]</th><th>PSFMAG [5]</th><th>ERR_PSFMAG [5]</th><th>TARGET_FLUX [5]</th><th>MI</th><th>DGMI</th><th>EXTINCTION [5]</th><th>EXTINCTION_RECAL [5]</th><th>HI_GAL</th><th>VAR_MATCHED</th><th>VAR_CHI2</th><th>VAR_A</th><th>VAR_GAMMA</th><th>RASS_COUNTS</th><th>RASS_COUNTS_SNR</th><th>SDSS2ROSAT_SEP</th><th>N_DETECTION_XMM</th><th>FLUX02_12KEV_SGL</th><th>ERR_FLUX02_12KEV_SGL</th><th>FLUX02_2KEV</th><th>ERR_FLUX02_2KEV</th><th>FLUX2_12KEV</th><th>ERR_FLUX2_12KEV</th><th>FLUX02_12KEV</th><th>ERR_FLUX02_12KEV</th><th>LUM02_2KEV_SGL</th><th>LUM05_2KEV</th><th>LUM2_12KEV</th><th>LUM02_2KEV</th><th>LUMX2_10_UPPER</th><th>SDSS2XMM_SEP</th><th>GALEX_MATCHED</th><th>FUV</th><th>FUV_IVAR</th><th>NUV</th><th>NUV_IVAR</th><th>JMAG</th><th>ERR_JMAG</th><th>JSNR</th><th>JRDFLAG</th><th>HMAG</th><th>ERR_HMAG</th><th>HSNR</th><th>HRDFLAG</th><th>KMAG</th><th>ERR_KMAG</th><th>KSNR</th><th>KRDFLAG</th><th>SDSS2MASS_SEP</th><th>W1MAG</th><th>ERR_W1MAG</th><th>W1SNR</th><th>W1CHI2</th><th>W2MAG</th><th>ERR_W2MAG</th><th>W2SNR</th><th>W2CHI2</th><th>W3MAG</th><th>ERR_W3MAG</th><th>W3SNR</th><th>W3CHI2</th><th>W4MAG</th><th>ERR_W4MAG</th><th>W4SNR</th><th>W4CHI2</th><th>SDSS2WISE_SEP</th><th>UKIDSS_MATCHED</th><th>YFLUX</th><th>YFLUX_ERR</th><th>JFLUX</th><th>JFLUX_ERR</th><th>HFLUX</th><th>HFLUX_ERR</th><th>KFLUX</th><th>KFLUX_ERR</th><th>FIRST_MATCHED</th><th>FIRST_FLUX</th><th>FIRST_SNR</th><th>SDSS2FIRST_SEP</th><th>R</th><th>zem_GROUP</th><th>sig_zem</th><th>IGM_ID</th><th>NPIX</th><th>WV_MIN</th><th>WV_MAX</th><th>GROUP_ID</th><th>EPOCH</th><th>SDSS_NAME</th><th>RERUN_NUMBER</th><th>OBJ_ID</th><th>CC_FLAGS</th><th>PH_FLAG</th><th>DATE-OBS</th><th>flag_zem</th><th>STYPE</th><th>SPEC_FILE</th><th>CAT</th><th>INSTR</th><th>DISPERSER</th><th>TELESCOPE</th><th>GROUP</th><th>UMAG</th><th>UMAGERR</th><th>GMAG</th><th>GMAGERR</th><th>RMAG</th><th>RMAGERR</th><th>IMAG</th><th>IMAGERR</th><th>ZMAG</th><th>ZMAGERR</th><th>AU</th><th>logNH</th><th>FIRSTMAG</th><th>FIRSTSN</th><th>FIRSTDEL</th><th>RASSCNT</th><th>RASSSN</th><th>RASSDEL</th><th>JMAGERR</th><th>HMAGERR</th><th>KMAGERR</th><th>MASSDEL</th><th>MASSFLG</th><th>MIMAG</th><th>MFLAG</th><th>SPFLAG</th><th>MODEFLAG</th><th>USELFLAG</th><th>BESTFLAG</th><th>LZFLAG</th><th>HZFLAG</th><th>FTFLAG</th><th>RTFLAG</th><th>SRFLAG</th><th>STFLAG</th><th>GXFLAG</th><th>RUN</th><th>RMJD</th><th>SMJD</th><th>RERUN</th><th>CAMCOL</th><th>FIELD</th><th>OBJECT</th><th>TFLAG</th><th>LZTFLAG</th><th>HZTFLAG</th><th>FTTFLAG</th><th>RTTFLAG</th><th>SRTFLAG</th><th>STTFLAG</th><th>GXTFLAG</th><th>UTMAG</th><th>UTMAGERR</th><th>GTMAG</th><th>GTMAGERR</th><th>RTMAG</th><th>RTMAGERR</th><th>ITMAG</th><th>ITMAGERR</th><th>ZTMAG</th><th>ZTMAGERR</th><th>SDSSJ</th><th>BESTID</th><th>SPECOID</th><th>ONAME</th><th>kodetime</th><th>kodwblue</th><th>kodwred</th><th>kodrelease</th><th>qso</th><th>sRA</th><th>sDEC</th><th>pi_date</th><th>spec_prefix</th><th>redux_setup</th><th>targname</th><th>deckname</th><th>elaptime</th><th>qaflag</th><th>Plate</th><th>FiberID</th><th>r_mag</th><th>i_mag</th><th>z_mag</th><th>Exptime</th><th>SN</th><th>Slit</th><th>Name</th><th>ObsDate</th><th>Reference</th><th>NAME</th><th>DATE-INFO</th></tr></thead>\n",
       "<thead><tr><th>float64</th><th>float64</th><th>int32</th><th>int32</th><th>int64</th><th>int32</th><th>float64</th><th>float64</th><th>float64</th><th>int32</th><th>float64</th><th>float64</th><th>float64</th><th>float64</th><th>float64</th><th>float64</th><th>int32</th><th>int64</th><th>int64</th><th>int64</th><th>int64</th><th>int32</th><th>int32</th><th>int32</th><th>int32</th><th>int32</th><th>int32</th><th>int32</th><th>int32</th><th>int16</th><th>float64</th><th>float64</th><th>float64</th><th>float64</th><th>float64</th><th>float64</th><th>float64</th><th>float64</th><th>float64</th><th>float64</th><th>float64</th><th>float64</th><th>float64</th><th>float64</th><th>float64</th><th>float64</th><th>float64</th><th>float64</th><th>float64</th><th>float64</th><th>float64</th><th>float64</th><th>float64</th><th>float64</th><th>int32</th><th>float64</th><th>float64</th><th>float64</th><th>float64</th><th>float64</th><th>int32</th><th>float64</th><th>float64</th><th>int32</th><th>float64</th><th>float64</th><th>float64</th><th>float64</th><th>float64</th><th>int16</th><th>int32</th><th>int16</th><th>int16</th><th>float64</th><th>float64</th><th>float64</th><th>float64</th><th>float64</th><th>float64</th><th>float64</th><th>float64</th><th>float32</th><th>float64</th><th>int16</th><th>float64</th><th>float64</th><th>float64</th><th>float64</th><th>float64</th><th>float64</th><th>int16</th><th>float64</th><th>float64</th><th>float64</th><th>float64</th><th>float64</th><th>float64</th><th>float64</th><th>float64</th><th>float64</th><th>float64</th><th>float64</th><th>float64</th><th>int16</th><th>float64</th><th>int16</th><th>float64</th><th>float64</th><th>float64</th><th>float64</th><th>float64</th><th>float64</th><th>float64</th><th>int32</th><th>float64</th><th>float64</th><th>float64</th><th>int32</th><th>float64</th><th>float64</th><th>float64</th><th>int32</th><th>float64</th><th>float64</th><th>float64</th><th>float64</th><th>float64</th><th>float64</th><th>float64</th><th>float64</th><th>float64</th><th>float64</th><th>float64</th><th>float64</th><th>float64</th><th>float64</th><th>float64</th><th>float64</th><th>float64</th><th>float64</th><th>int16</th><th>float32</th><th>float32</th><th>float32</th><th>float32</th><th>float32</th><th>float32</th><th>float32</th><th>float32</th><th>int16</th><th>float64</th><th>float64</th><th>float64</th><th>float64</th><th>float64</th><th>float64</th><th>int64</th><th>int64</th><th>float64</th><th>float64</th><th>int64</th><th>float64</th><th>str18</th><th>str3</th><th>str19</th><th>str4</th><th>str4</th><th>str23</th><th>str10</th><th>str3</th><th>str29</th><th>str5</th><th>str8</th><th>str4</th><th>str10</th><th>str10</th><th>float64</th><th>float64</th><th>float64</th><th>float64</th><th>float64</th><th>float64</th><th>float64</th><th>float64</th><th>float64</th><th>float64</th><th>float64</th><th>float64</th><th>float64</th><th>float64</th><th>float64</th><th>float64</th><th>float64</th><th>float64</th><th>float64</th><th>float64</th><th>float64</th><th>float64</th><th>int32</th><th>float64</th><th>int32</th><th>int32</th><th>int32</th><th>int32</th><th>int32</th><th>int32</th><th>int32</th><th>int32</th><th>int32</th><th>int32</th><th>int32</th><th>int32</th><th>int32</th><th>int32</th><th>int32</th><th>int32</th><th>int32</th><th>int32</th><th>int32</th><th>int32</th><th>int32</th><th>int32</th><th>int32</th><th>int32</th><th>int32</th><th>int32</th><th>int32</th><th>float64</th><th>float64</th><th>float64</th><th>float64</th><th>float64</th><th>float64</th><th>float64</th><th>float64</th><th>float64</th><th>float64</th><th>str31</th><th>str31</th><th>str31</th><th>str31</th><th>int64</th><th>int64</th><th>int64</th><th>int64</th><th>str14</th><th>str11</th><th>str12</th><th>str27</th><th>str20</th><th>str8</th><th>str14</th><th>str2</th><th>str18</th><th>str4</th><th>int64</th><th>int64</th><th>float64</th><th>float64</th><th>float64</th><th>int64</th><th>int64</th><th>float64</th><th>str10</th><th>str7</th><th>str13</th><th>str10</th><th>str25</th></tr></thead>\n",
       "<tr><td>196.10895</td><td>12.04599</td><td>218422633</td><td>5419</td><td>55983</td><td>860</td><td>2.98</td><td>2.924075126647949</td><td>0.0001648141333134845</td><td>0</td><td>2.9778186423082276</td><td>0.0007444079711312689</td><td>0.018214719470118778</td><td>2.9712895975025924</td><td>2.9769944206780856</td><td>-1.0</td><td>0</td><td>3298535411712</td><td>0</td><td>0</td><td>0</td><td>0</td><td>-1 .. -1</td><td>-1 .. -1</td><td>-1 .. -1</td><td>1</td><td>1696</td><td>53116</td><td>278</td><td>1</td><td>-0.44188836215646043</td><td>24.460253035960008</td><td>-1.0 .. -1.0</td><td>27.88959846753877</td><td>-1.0</td><td>-1.0</td><td>5490.131658498431</td><td>2047.0865163930791</td><td>3443.0451421053517</td><td>15.907869882246374</td><td>21.700901487303902</td><td>0.6581392495807723</td><td>6732.5088131934135</td><td>2603.5705137138057</td><td>4128.938299479608</td><td>8.44187704192678</td><td>16.602751930406303</td><td>0.7361449099319443</td><td>-1.0</td><td>-1.0</td><td>-1.0</td><td>-1.0</td><td>-1.0</td><td>-1.0</td><td>0</td><td>0.0</td><td>0.0</td><td>0.0</td><td>0.0</td><td>0.0</td><td>0</td><td>0.0</td><td>0.0</td><td>0</td><td>0.0</td><td>0.0</td><td>0.0</td><td>0.0</td><td>0.0</td><td>3805</td><td>52721</td><td>3</td><td>59</td><td>9.734657287597656 .. 69.40412902832031</td><td>4.516104698181152 .. 0.42918649315834045</td><td>20.028974533081055 .. 17.896413803100586</td><td>0.052461665123701096 .. 0.02387356385588646</td><td>9.734657287597656 .. 69.40412902832031</td><td>-28.428612031175522</td><td>0.1037118136882782</td><td>0.1547192633152008 .. 0.04438987001776695</td><td>0.23524457 .. 0.07009056</td><td>22.243521707406288</td><td>4</td><td>19.333032608032227</td><td>0.15100154280662537</td><td>-0.09999997168779373</td><td>0.0</td><td>0.0</td><td>0.0</td><td>0</td><td>0.0</td><td>0.0</td><td>0.0</td><td>0.0</td><td>0.0</td><td>0.0</td><td>0.0</td><td>0.0</td><td>0.0</td><td>0.0</td><td>0.0</td><td>0.0</td><td>0</td><td>0.0</td><td>1</td><td>0.3853868544101715</td><td>8.859092825947299</td><td>-0.0523417703807354</td><td>3.821685811675798</td><td>0.0</td><td>0.0</td><td>0.0</td><td>0</td><td>0.0</td><td>0.0</td><td>0.0</td><td>0</td><td>0.0</td><td>0.0</td><td>0.0</td><td>0</td><td>0.0</td><td>15.084</td><td>0.03500000014901161</td><td>30.7</td><td>0.9584</td><td>14.144</td><td>0.04600000008940697</td><td>23.6</td><td>0.8924</td><td>10.434</td><td>0.08799999952316284</td><td>12.3</td><td>0.9342</td><td>8.034</td><td>0.2070000022649765</td><td>5.2</td><td>0.0</td><td>0.2042026671933591</td><td>1</td><td>2.5147753e-30</td><td>4.9198644e-32</td><td>2.6859877e-30</td><td>3.924917e-32</td><td>2.7642703e-30</td><td>3.9308196e-32</td><td>2.470158e-30</td><td>4.4270945e-32</td><td>0</td><td>0.0</td><td>0.0</td><td>0.0</td><td>2100.0</td><td>2.978</td><td>0.0007444079711312689</td><td>181073</td><td>4546</td><td>3603.3</td><td>10261.2</td><td>181135</td><td>2000.0</td><td>130426.14+120245.5</td><td>301</td><td>1237661816561795260</td><td>0000</td><td>AAAB</td><td>2012-02-26</td><td>BOSS_PCA</td><td>QSO</td><td>spec-5419-55983-0860.fits.gz</td><td>DR12Q</td><td>BOSS</td><td>BOTH</td><td>SDSS 2.5-M</td><td>BOSS_DR12</td><td>--</td><td>--</td><td>--</td><td>--</td><td>--</td><td>--</td><td>--</td><td>--</td><td>--</td><td>--</td><td>--</td><td>--</td><td>--</td><td>--</td><td>--</td><td>--</td><td>--</td><td>--</td><td>--</td><td>--</td><td>--</td><td>--</td><td>--</td><td>--</td><td>--</td><td>--</td><td>--</td><td>--</td><td>--</td><td>--</td><td>--</td><td>--</td><td>--</td><td>--</td><td>--</td><td>--</td><td>--</td><td>--</td><td>--</td><td>--</td><td>--</td><td>--</td><td>--</td><td>--</td><td>--</td><td>--</td><td>--</td><td>--</td><td>--</td><td>--</td><td>--</td><td>--</td><td>--</td><td>--</td><td>--</td><td>--</td><td>--</td><td>--</td><td>--</td><td>--</td><td>--</td><td>--</td><td>--</td><td>--</td><td>--</td><td>--</td><td>--</td><td>--</td><td>--</td><td>--</td><td>--</td><td>--</td><td>--</td><td>--</td><td>--</td><td>--</td><td>--</td><td>--</td><td>--</td><td>--</td><td>--</td><td>--</td><td>--</td><td>--</td><td>--</td><td>--</td><td>--</td><td>--</td><td>--</td><td>--</td><td>--</td><td>--</td></tr>\n",
       "<tr><td>196.10896</td><td>12.04599</td><td>--</td><td>1696</td><td>--</td><td>278</td><td>--</td><td>--</td><td>--</td><td>--</td><td>--</td><td>--</td><td>--</td><td>--</td><td>--</td><td>--</td><td>--</td><td>--</td><td>--</td><td>--</td><td>--</td><td>--</td><td>-- .. --</td><td>-- .. --</td><td>-- .. --</td><td>--</td><td>--</td><td>--</td><td>--</td><td>--</td><td>--</td><td>--</td><td>-- .. --</td><td>--</td><td>--</td><td>--</td><td>--</td><td>--</td><td>--</td><td>--</td><td>--</td><td>--</td><td>--</td><td>--</td><td>--</td><td>--</td><td>--</td><td>--</td><td>--</td><td>--</td><td>--</td><td>--</td><td>--</td><td>--</td><td>--</td><td>--</td><td>--</td><td>--</td><td>--</td><td>--</td><td>--</td><td>--</td><td>--</td><td>--</td><td>--</td><td>--</td><td>--</td><td>--</td><td>--</td><td>--</td><td>--</td><td>--</td><td>--</td><td>-- .. --</td><td>-- .. --</td><td>-- .. --</td><td>-- .. --</td><td>-- .. --</td><td>--</td><td>0.078</td><td>-- .. --</td><td>-- .. --</td><td>--</td><td>--</td><td>--</td><td>--</td><td>--</td><td>--</td><td>--</td><td>--</td><td>--</td><td>--</td><td>--</td><td>--</td><td>--</td><td>--</td><td>--</td><td>--</td><td>--</td><td>--</td><td>--</td><td>--</td><td>--</td><td>--</td><td>--</td><td>--</td><td>--</td><td>--</td><td>--</td><td>--</td><td>16.72</td><td>--</td><td>--</td><td>--</td><td>16.171</td><td>--</td><td>--</td><td>--</td><td>15.589</td><td>--</td><td>--</td><td>--</td><td>--</td><td>--</td><td>--</td><td>--</td><td>--</td><td>--</td><td>--</td><td>--</td><td>--</td><td>--</td><td>--</td><td>--</td><td>--</td><td>--</td><td>--</td><td>--</td><td>--</td><td>--</td><td>--</td><td>--</td><td>--</td><td>--</td><td>--</td><td>--</td><td>--</td><td>--</td><td>--</td><td>--</td><td>--</td><td>--</td><td>--</td><td>2000.0</td><td>2.985</td><td>0.0</td><td>181073</td><td>3819</td><td>3813.3</td><td>9185.4</td><td>64731</td><td>2000.0</td><td>--</td><td>--</td><td>--</td><td>--</td><td>--</td><td>2004-04-21</td><td>SDSS-HW</td><td>QSO</td><td>spSpec-53116-1696-278.fit.gz</td><td>--</td><td>SDSS</td><td>BOTH</td><td>SDSS 2.5-M</td><td>SDSS_DR7</td><td>20.049</td><td>0.061</td><td>18.281</td><td>0.022</td><td>18.007</td><td>0.014</td><td>17.944</td><td>0.016</td><td>17.893</td><td>0.027</td><td>0.155</td><td>20.336</td><td>0.0</td><td>0.0</td><td>0.0</td><td>-9.0</td><td>0.0</td><td>0.0</td><td>0.123</td><td>0.165</td><td>0.175</td><td>0.38</td><td>13</td><td>-28.378</td><td>0</td><td>1</td><td>1</td><td>1</td><td>3</td><td>1</td><td>1</td><td>0</td><td>0</td><td>0</td><td>0</td><td>0</td><td>3805</td><td>52721</td><td>53116</td><td>41</td><td>3</td><td>59</td><td>178</td><td>3</td><td>1</td><td>1</td><td>0</td><td>0</td><td>0</td><td>0</td><td>0</td><td>20.057</td><td>0.061</td><td>18.295</td><td>0.022</td><td>18.016</td><td>0.014</td><td>17.955</td><td>0.016</td><td>17.887</td><td>0.027</td><td>130426.14+120245.5</td><td>588017570313601202</td><td>477609693150183424</td><td>SDSS J130426.15+120245.5</td><td>--</td><td>--</td><td>--</td><td>--</td><td>--</td><td>--</td><td>--</td><td>--</td><td>--</td><td>--</td><td>--</td><td>--</td><td>--</td><td>--</td><td>--</td><td>--</td><td>--</td><td>--</td><td>--</td><td>--</td><td>--</td><td>--</td><td>--</td><td>--</td><td>--</td><td>--</td><td>--</td></tr>\n",
       "<tr><td>196.10896</td><td>12.04597</td><td>--</td><td>--</td><td>--</td><td>--</td><td>--</td><td>--</td><td>--</td><td>--</td><td>--</td><td>--</td><td>--</td><td>--</td><td>--</td><td>--</td><td>--</td><td>--</td><td>--</td><td>--</td><td>--</td><td>--</td><td>-- .. --</td><td>-- .. --</td><td>-- .. --</td><td>--</td><td>--</td><td>--</td><td>--</td><td>--</td><td>--</td><td>--</td><td>-- .. --</td><td>--</td><td>--</td><td>--</td><td>--</td><td>--</td><td>--</td><td>--</td><td>--</td><td>--</td><td>--</td><td>--</td><td>--</td><td>--</td><td>--</td><td>--</td><td>--</td><td>--</td><td>--</td><td>--</td><td>--</td><td>--</td><td>--</td><td>--</td><td>--</td><td>--</td><td>--</td><td>--</td><td>--</td><td>--</td><td>--</td><td>--</td><td>--</td><td>--</td><td>--</td><td>--</td><td>--</td><td>--</td><td>--</td><td>--</td><td>--</td><td>-- .. --</td><td>-- .. --</td><td>-- .. --</td><td>-- .. --</td><td>-- .. --</td><td>--</td><td>--</td><td>-- .. --</td><td>-- .. --</td><td>--</td><td>--</td><td>--</td><td>--</td><td>--</td><td>--</td><td>--</td><td>--</td><td>--</td><td>--</td><td>--</td><td>--</td><td>--</td><td>--</td><td>--</td><td>--</td><td>--</td><td>--</td><td>--</td><td>--</td><td>--</td><td>--</td><td>--</td><td>--</td><td>--</td><td>--</td><td>--</td><td>--</td><td>--</td><td>--</td><td>--</td><td>--</td><td>--</td><td>--</td><td>--</td><td>--</td><td>--</td><td>--</td><td>--</td><td>--</td><td>--</td><td>--</td><td>--</td><td>--</td><td>--</td><td>--</td><td>--</td><td>--</td><td>--</td><td>--</td><td>--</td><td>--</td><td>--</td><td>--</td><td>--</td><td>--</td><td>--</td><td>--</td><td>--</td><td>--</td><td>--</td><td>--</td><td>--</td><td>--</td><td>--</td><td>--</td><td>--</td><td>--</td><td>--</td><td>--</td><td>--</td><td>72000.0</td><td>2.980</td><td>0.0</td><td>181073</td><td>188642</td><td>3606.1</td><td>8171.4</td><td>127</td><td>2000.0</td><td>--</td><td>--</td><td>--</td><td>--</td><td>--</td><td>2008-03-24</td><td>SIMBAD</td><td>QSO</td><td>J130426+120245_f.fits</td><td>--</td><td>HIRES</td><td>RED</td><td>Keck-I</td><td>KODIAQ_DR1</td><td>--</td><td>--</td><td>--</td><td>--</td><td>--</td><td>--</td><td>--</td><td>--</td><td>--</td><td>--</td><td>--</td><td>--</td><td>--</td><td>--</td><td>--</td><td>--</td><td>--</td><td>--</td><td>--</td><td>--</td><td>--</td><td>--</td><td>--</td><td>--</td><td>--</td><td>--</td><td>--</td><td>--</td><td>--</td><td>--</td><td>--</td><td>--</td><td>--</td><td>--</td><td>--</td><td>--</td><td>--</td><td>--</td><td>--</td><td>--</td><td>--</td><td>--</td><td>--</td><td>--</td><td>--</td><td>--</td><td>--</td><td>--</td><td>--</td><td>--</td><td>--</td><td>--</td><td>--</td><td>--</td><td>--</td><td>--</td><td>--</td><td>--</td><td>--</td><td>--</td><td>--</td><td>--</td><td>--</td><td>--</td><td>--</td><td>9000</td><td>3606</td><td>8171</td><td>1</td><td>J130426+120245</td><td>13:04:26.15</td><td>+12:02:45.5</td><td>Wolfe_Mar_24_25_2008</td><td>J130426+120245</td><td>Setup_3</td><td>J130426+120245</td><td>B2</td><td>3600+5400</td><td>ok</td><td>--</td><td>--</td><td>--</td><td>--</td><td>--</td><td>--</td><td>--</td><td>--</td><td>--</td><td>--</td><td>--</td><td>--</td><td>--</td></tr>\n",
       "<tr><td>196.10896</td><td>12.04597</td><td>--</td><td>--</td><td>--</td><td>--</td><td>--</td><td>--</td><td>--</td><td>--</td><td>--</td><td>--</td><td>--</td><td>--</td><td>--</td><td>--</td><td>--</td><td>--</td><td>--</td><td>--</td><td>--</td><td>--</td><td>-- .. --</td><td>-- .. --</td><td>-- .. --</td><td>--</td><td>--</td><td>--</td><td>--</td><td>--</td><td>--</td><td>--</td><td>-- .. --</td><td>--</td><td>--</td><td>--</td><td>--</td><td>--</td><td>--</td><td>--</td><td>--</td><td>--</td><td>--</td><td>--</td><td>--</td><td>--</td><td>--</td><td>--</td><td>--</td><td>--</td><td>--</td><td>--</td><td>--</td><td>--</td><td>--</td><td>--</td><td>--</td><td>--</td><td>--</td><td>--</td><td>--</td><td>--</td><td>--</td><td>--</td><td>--</td><td>--</td><td>--</td><td>--</td><td>--</td><td>--</td><td>--</td><td>--</td><td>--</td><td>-- .. --</td><td>-- .. --</td><td>-- .. --</td><td>-- .. --</td><td>-- .. --</td><td>--</td><td>--</td><td>-- .. --</td><td>-- .. --</td><td>--</td><td>--</td><td>--</td><td>--</td><td>--</td><td>--</td><td>--</td><td>--</td><td>--</td><td>--</td><td>--</td><td>--</td><td>--</td><td>--</td><td>--</td><td>--</td><td>--</td><td>--</td><td>--</td><td>--</td><td>--</td><td>--</td><td>--</td><td>--</td><td>--</td><td>--</td><td>--</td><td>--</td><td>--</td><td>--</td><td>--</td><td>--</td><td>--</td><td>--</td><td>--</td><td>--</td><td>--</td><td>--</td><td>--</td><td>--</td><td>--</td><td>--</td><td>--</td><td>--</td><td>--</td><td>--</td><td>--</td><td>--</td><td>--</td><td>--</td><td>--</td><td>--</td><td>--</td><td>--</td><td>--</td><td>--</td><td>--</td><td>--</td><td>--</td><td>--</td><td>--</td><td>--</td><td>--</td><td>--</td><td>--</td><td>--</td><td>--</td><td>--</td><td>--</td><td>--</td><td>--</td><td>72000.0</td><td>2.978</td><td>0.0</td><td>181073</td><td>161198</td><td>4061.9</td><td>8171.4</td><td>57</td><td>2000.0</td><td>--</td><td>--</td><td>--</td><td>--</td><td>--</td><td>2008-03-24</td><td>UNKN</td><td>QSO</td><td>J1304+1202a_f.fits</td><td>--</td><td>HIRES</td><td>RED</td><td>Keck-I</td><td>HDLA100</td><td>--</td><td>--</td><td>--</td><td>--</td><td>--</td><td>--</td><td>--</td><td>--</td><td>--</td><td>--</td><td>--</td><td>--</td><td>--</td><td>--</td><td>--</td><td>--</td><td>--</td><td>--</td><td>--</td><td>--</td><td>--</td><td>--</td><td>--</td><td>--</td><td>--</td><td>--</td><td>--</td><td>--</td><td>--</td><td>--</td><td>--</td><td>--</td><td>--</td><td>--</td><td>--</td><td>--</td><td>--</td><td>--</td><td>--</td><td>--</td><td>--</td><td>--</td><td>--</td><td>--</td><td>--</td><td>--</td><td>--</td><td>--</td><td>--</td><td>--</td><td>--</td><td>--</td><td>--</td><td>--</td><td>--</td><td>--</td><td>--</td><td>--</td><td>--</td><td>--</td><td>--</td><td>--</td><td>--</td><td>--</td><td>--</td><td>--</td><td>--</td><td>--</td><td>--</td><td>--</td><td>--</td><td>--</td><td>--</td><td>--</td><td>--</td><td>--</td><td>--</td><td>--</td><td>--</td><td>--</td><td>--</td><td>--</td><td>--</td><td>--</td><td>--</td><td>--</td><td>--</td><td>--</td><td>--</td><td>--</td><td>--</td><td>--</td></tr>\n",
       "<tr><td>196.10896</td><td>12.04599</td><td>--</td><td>--</td><td>55983</td><td>--</td><td>--</td><td>--</td><td>--</td><td>--</td><td>--</td><td>--</td><td>--</td><td>--</td><td>--</td><td>--</td><td>--</td><td>--</td><td>--</td><td>--</td><td>--</td><td>--</td><td>-- .. --</td><td>-- .. --</td><td>-- .. --</td><td>--</td><td>--</td><td>--</td><td>--</td><td>--</td><td>--</td><td>--</td><td>-- .. --</td><td>--</td><td>--</td><td>--</td><td>--</td><td>--</td><td>--</td><td>--</td><td>--</td><td>--</td><td>--</td><td>--</td><td>--</td><td>--</td><td>--</td><td>--</td><td>--</td><td>--</td><td>--</td><td>--</td><td>--</td><td>--</td><td>--</td><td>--</td><td>--</td><td>--</td><td>--</td><td>--</td><td>--</td><td>--</td><td>--</td><td>--</td><td>--</td><td>--</td><td>--</td><td>--</td><td>--</td><td>--</td><td>--</td><td>--</td><td>--</td><td>-- .. --</td><td>-- .. --</td><td>-- .. --</td><td>-- .. --</td><td>-- .. --</td><td>--</td><td>--</td><td>-- .. --</td><td>-- .. --</td><td>--</td><td>--</td><td>--</td><td>--</td><td>--</td><td>--</td><td>--</td><td>--</td><td>--</td><td>--</td><td>--</td><td>--</td><td>--</td><td>--</td><td>--</td><td>--</td><td>--</td><td>--</td><td>--</td><td>--</td><td>--</td><td>--</td><td>--</td><td>--</td><td>--</td><td>--</td><td>--</td><td>--</td><td>--</td><td>--</td><td>--</td><td>--</td><td>--</td><td>--</td><td>--</td><td>--</td><td>--</td><td>--</td><td>--</td><td>--</td><td>--</td><td>--</td><td>--</td><td>--</td><td>--</td><td>--</td><td>--</td><td>--</td><td>--</td><td>--</td><td>--</td><td>--</td><td>--</td><td>--</td><td>--</td><td>--</td><td>--</td><td>--</td><td>--</td><td>--</td><td>--</td><td>--</td><td>--</td><td>--</td><td>--</td><td>--</td><td>--</td><td>--</td><td>--</td><td>--</td><td>--</td><td>6060.0</td><td>2.920</td><td>0.0</td><td>181073</td><td>33000</td><td>3900.0</td><td>11715.6</td><td>50</td><td>2000.0</td><td>--</td><td>--</td><td>--</td><td>--</td><td>--</td><td>2008-03-05</td><td>SDSS</td><td>QSO</td><td>J1304+1202a_xF.fits</td><td>--</td><td>ESI</td><td>ECH</td><td>KeckII</td><td>ESI_DLA</td><td>--</td><td>--</td><td>--</td><td>--</td><td>--</td><td>--</td><td>--</td><td>--</td><td>--</td><td>--</td><td>--</td><td>--</td><td>--</td><td>--</td><td>--</td><td>--</td><td>--</td><td>--</td><td>--</td><td>--</td><td>--</td><td>--</td><td>--</td><td>--</td><td>--</td><td>--</td><td>--</td><td>--</td><td>--</td><td>--</td><td>--</td><td>--</td><td>--</td><td>--</td><td>--</td><td>--</td><td>--</td><td>--</td><td>--</td><td>--</td><td>--</td><td>--</td><td>--</td><td>--</td><td>--</td><td>--</td><td>--</td><td>--</td><td>--</td><td>--</td><td>--</td><td>--</td><td>--</td><td>--</td><td>--</td><td>--</td><td>--</td><td>--</td><td>--</td><td>--</td><td>--</td><td>--</td><td>--</td><td>--</td><td>--</td><td>--</td><td>--</td><td>--</td><td>--</td><td>--</td><td>--</td><td>--</td><td>--</td><td>--</td><td>--</td><td>--</td><td>--</td><td>--</td><td>--</td><td>5419</td><td>860</td><td>18.01</td><td>17.95</td><td>17.9</td><td>1800</td><td>36</td><td>0.75</td><td>J1304+1202</td><td>3/5/08</td><td>Rafelski:2012</td><td>--</td><td>--</td></tr>\n",
       "<tr><td>196.10896</td><td>12.04597</td><td>--</td><td>--</td><td>--</td><td>--</td><td>--</td><td>--</td><td>--</td><td>--</td><td>--</td><td>--</td><td>--</td><td>--</td><td>--</td><td>--</td><td>--</td><td>--</td><td>--</td><td>--</td><td>--</td><td>--</td><td>-- .. --</td><td>-- .. --</td><td>-- .. --</td><td>--</td><td>--</td><td>--</td><td>--</td><td>--</td><td>--</td><td>--</td><td>-- .. --</td><td>--</td><td>--</td><td>--</td><td>--</td><td>--</td><td>--</td><td>--</td><td>--</td><td>--</td><td>--</td><td>--</td><td>--</td><td>--</td><td>--</td><td>--</td><td>--</td><td>--</td><td>--</td><td>--</td><td>--</td><td>--</td><td>--</td><td>--</td><td>--</td><td>--</td><td>--</td><td>--</td><td>--</td><td>--</td><td>--</td><td>--</td><td>--</td><td>--</td><td>--</td><td>--</td><td>--</td><td>--</td><td>--</td><td>--</td><td>--</td><td>-- .. --</td><td>-- .. --</td><td>-- .. --</td><td>-- .. --</td><td>-- .. --</td><td>--</td><td>--</td><td>-- .. --</td><td>-- .. --</td><td>--</td><td>--</td><td>--</td><td>--</td><td>--</td><td>--</td><td>--</td><td>--</td><td>--</td><td>--</td><td>--</td><td>--</td><td>--</td><td>--</td><td>--</td><td>--</td><td>--</td><td>--</td><td>--</td><td>--</td><td>--</td><td>--</td><td>--</td><td>--</td><td>--</td><td>--</td><td>--</td><td>--</td><td>--</td><td>--</td><td>--</td><td>--</td><td>--</td><td>--</td><td>--</td><td>--</td><td>--</td><td>--</td><td>--</td><td>--</td><td>--</td><td>--</td><td>--</td><td>--</td><td>--</td><td>--</td><td>--</td><td>--</td><td>--</td><td>--</td><td>--</td><td>--</td><td>--</td><td>--</td><td>--</td><td>--</td><td>--</td><td>--</td><td>--</td><td>--</td><td>--</td><td>--</td><td>--</td><td>--</td><td>--</td><td>--</td><td>--</td><td>--</td><td>--</td><td>--</td><td>--</td><td>4225.352112676056</td><td>2.981</td><td>0.0</td><td>181073</td><td>18356</td><td>3042.7</td><td>10352.3</td><td>63</td><td>2000.0</td><td>--</td><td>--</td><td>--</td><td>--</td><td>--</td><td>2009-06-28</td><td>SDSS</td><td>QSO</td><td>J1304+1202_MagE.ascii</td><td>--</td><td>MagE</td><td>N/A</td><td>Magellan</td><td>MUSoDLA</td><td>--</td><td>--</td><td>--</td><td>--</td><td>--</td><td>--</td><td>--</td><td>--</td><td>--</td><td>--</td><td>--</td><td>--</td><td>--</td><td>--</td><td>--</td><td>--</td><td>--</td><td>--</td><td>--</td><td>--</td><td>--</td><td>--</td><td>--</td><td>--</td><td>--</td><td>--</td><td>--</td><td>--</td><td>--</td><td>--</td><td>--</td><td>--</td><td>--</td><td>--</td><td>--</td><td>--</td><td>--</td><td>--</td><td>--</td><td>--</td><td>--</td><td>--</td><td>--</td><td>--</td><td>--</td><td>--</td><td>--</td><td>--</td><td>--</td><td>--</td><td>--</td><td>--</td><td>--</td><td>--</td><td>--</td><td>--</td><td>--</td><td>--</td><td>--</td><td>--</td><td>--</td><td>--</td><td>--</td><td>--</td><td>--</td><td>--</td><td>--</td><td>--</td><td>--</td><td>--</td><td>--</td><td>--</td><td>--</td><td>--</td><td>--</td><td>--</td><td>--</td><td>--</td><td>--</td><td>--</td><td>--</td><td>--</td><td>--</td><td>--</td><td>--</td><td>--</td><td>--</td><td>--</td><td>--</td><td>--</td><td>J1304+1202</td><td>1:1,2009-2009,2009-06-28</td></tr>\n",
       "</table>"
      ],
      "text/plain": [
       "<Table masked=True length=6>\n",
       " RA_GROUP DEC_GROUP  THING_ID ...    NAME           DATE-INFO        \n",
       " float64   float64    int32   ...   str10             str25          \n",
       "--------- --------- --------- ... ---------- ------------------------\n",
       "196.10895  12.04599 218422633 ...         --                       --\n",
       "196.10896  12.04599        -- ...         --                       --\n",
       "196.10896  12.04597        -- ...         --                       --\n",
       "196.10896  12.04597        -- ...         --                       --\n",
       "196.10896  12.04599        -- ...         --                       --\n",
       "196.10896  12.04597        -- ... J1304+1202 1:1,2009-2009,2009-06-28"
      ]
     },
     "execution_count": 6,
     "metadata": {},
     "output_type": "execute_result"
    }
   ],
   "source": [
    "meta"
   ]
  },
  {
   "cell_type": "code",
   "execution_count": 7,
   "metadata": {},
   "outputs": [
    {
     "name": "stderr",
     "output_type": "stream",
     "text": [
      "WARNING: MergeConflictWarning: Cannot merge meta key 'group' types <class 'str'> and <class 'str'>, choosing group='SDSS_DR7' [astropy.utils.metadata]\n"
     ]
    },
    {
     "name": "stdout",
     "output_type": "stream",
     "text": [
      "Grabbing data for J133146.2062+483826.5164\n",
      "Your search yielded 1 match[es] within radius=0.5 arcsec\n",
      "Staged 1 spectra totalling 9.3e-05 Gb\n",
      "Loaded spectra\n",
      "Staged 1 spectra totalling 8e-05 Gb\n",
      "Loaded spectra\n"
     ]
    },
    {
     "name": "stderr",
     "output_type": "stream",
     "text": [
      "/home/xavier/local/Python/linetools/linetools/spectra/xspectrum1d.py:253: UserWarning: No unit given to wavelength, assuming Angstroms.\n",
      "  warnings.warn(\"No unit given to wavelength, assuming Angstroms.\")\n",
      "/home/xavier/local/Python/linetools/linetools/spectra/xspectrum1d.py:253: UserWarning: No unit given to wavelength, assuming Angstroms.\n",
      "  warnings.warn(\"No unit given to wavelength, assuming Angstroms.\")\n"
     ]
    }
   ],
   "source": [
    "xspec2, meta2 = igmsp.get_sdss(1283, 423)"
   ]
  },
  {
   "cell_type": "code",
   "execution_count": 16,
   "metadata": {},
   "outputs": [
    {
     "name": "stdout",
     "output_type": "stream",
     "text": [
      "Your search yielded 1 match[es] within radius=5 arcsec\n",
      "Staged 1 spectra totalling 9.3e-05 Gb\n",
      "Loaded spectra\n",
      "Staged 1 spectra totalling 8e-05 Gb\n",
      "Loaded spectra\n"
     ]
    },
    {
     "name": "stderr",
     "output_type": "stream",
     "text": [
      "/home/xavier/local/Python/linetools/linetools/spectra/xspectrum1d.py:253: UserWarning: No unit given to wavelength, assuming Angstroms.\n",
      "  warnings.warn(\"No unit given to wavelength, assuming Angstroms.\")\n",
      "/home/xavier/local/Python/linetools/linetools/spectra/xspectrum1d.py:253: UserWarning: No unit given to wavelength, assuming Angstroms.\n",
      "  warnings.warn(\"No unit given to wavelength, assuming Angstroms.\")\n"
     ]
    }
   ],
   "source": [
    "xspec3, meta3 = igmsp.spectra_from_coord('J235152.80+160048', tol=5*units.arcsec)"
   ]
  },
  {
   "cell_type": "markdown",
   "metadata": {},
   "source": [
    "## Without"
   ]
  },
  {
   "cell_type": "code",
   "execution_count": 19,
   "metadata": {},
   "outputs": [],
   "source": [
    "sdss = igmsp['SDSS_DR7'].meta"
   ]
  },
  {
   "cell_type": "code",
   "execution_count": 27,
   "metadata": {},
   "outputs": [
    {
     "data": {
      "text/html": [
       "<i>Table length=12303</i>\n",
       "<table id=\"table140035114997408\" class=\"table-striped table-bordered table-condensed\">\n",
       "<thead><tr><th>PLATE</th><th>FIBERID</th><th>RMAG</th><th>zem_GROUP</th></tr></thead>\n",
       "<thead><tr><th>int32</th><th>int32</th><th>float64</th><th>float64</th></tr></thead>\n",
       "<tr><td>2822</td><td>315</td><td>20.1</td><td>3.215</td></tr>\n",
       "<tr><td>1091</td><td>553</td><td>20.009</td><td>3.765</td></tr>\n",
       "<tr><td>650</td><td>178</td><td>18.395</td><td>2.642</td></tr>\n",
       "<tr><td>1489</td><td>506</td><td>20.343</td><td>3.971</td></tr>\n",
       "<tr><td>685</td><td>154</td><td>19.606</td><td>2.766</td></tr>\n",
       "<tr><td>1091</td><td>546</td><td>20.03</td><td>2.554</td></tr>\n",
       "<tr><td>1489</td><td>104</td><td>19.479</td><td>3.592</td></tr>\n",
       "<tr><td>750</td><td>550</td><td>19.012</td><td>2.635</td></tr>\n",
       "<tr><td>2630</td><td>269</td><td>20.15</td><td>2.826</td></tr>\n",
       "<tr><td>2630</td><td>233</td><td>18.817</td><td>3.156</td></tr>\n",
       "<tr><td>...</td><td>...</td><td>...</td><td>...</td></tr>\n",
       "<tr><td>684</td><td>632</td><td>20.024</td><td>2.510</td></tr>\n",
       "<tr><td>1881</td><td>6</td><td>19.967</td><td>2.711</td></tr>\n",
       "<tr><td>1881</td><td>69</td><td>20.297</td><td>3.112</td></tr>\n",
       "<tr><td>685</td><td>207</td><td>19.138</td><td>2.762</td></tr>\n",
       "<tr><td>685</td><td>418</td><td>20.677</td><td>3.132</td></tr>\n",
       "<tr><td>750</td><td>414</td><td>20.172</td><td>3.235</td></tr>\n",
       "<tr><td>2824</td><td>293</td><td>19.636</td><td>2.626</td></tr>\n",
       "<tr><td>750</td><td>227</td><td>18.886</td><td>3.388</td></tr>\n",
       "<tr><td>750</td><td>235</td><td>19.573</td><td>3.555</td></tr>\n",
       "<tr><td>685</td><td>452</td><td>19.545</td><td>2.918</td></tr>\n",
       "</table>"
      ],
      "text/plain": [
       "<Table length=12303>\n",
       "PLATE FIBERID   RMAG  zem_GROUP\n",
       "int32  int32  float64  float64 \n",
       "----- ------- ------- ---------\n",
       " 2822     315    20.1     3.215\n",
       " 1091     553  20.009     3.765\n",
       "  650     178  18.395     2.642\n",
       " 1489     506  20.343     3.971\n",
       "  685     154  19.606     2.766\n",
       " 1091     546   20.03     2.554\n",
       " 1489     104  19.479     3.592\n",
       "  750     550  19.012     2.635\n",
       " 2630     269   20.15     2.826\n",
       " 2630     233  18.817     3.156\n",
       "  ...     ...     ...       ...\n",
       "  684     632  20.024     2.510\n",
       " 1881       6  19.967     2.711\n",
       " 1881      69  20.297     3.112\n",
       "  685     207  19.138     2.762\n",
       "  685     418  20.677     3.132\n",
       "  750     414  20.172     3.235\n",
       " 2824     293  19.636     2.626\n",
       "  750     227  18.886     3.388\n",
       "  750     235  19.573     3.555\n",
       "  685     452  19.545     2.918"
      ]
     },
     "execution_count": 27,
     "metadata": {},
     "output_type": "execute_result"
    }
   ],
   "source": [
    "sdss[['PLATE', 'FIBERID', 'RMAG', 'zem_GROUP']][sdss['zem_GROUP']  > 2.5]"
   ]
  },
  {
   "cell_type": "code",
   "execution_count": 28,
   "metadata": {},
   "outputs": [
    {
     "name": "stderr",
     "output_type": "stream",
     "text": [
      "WARNING: MergeConflictWarning: Cannot merge meta key 'group' types <class 'str'> and <class 'str'>, choosing group='SDSS_DR7' [astropy.utils.metadata]\n"
     ]
    },
    {
     "name": "stdout",
     "output_type": "stream",
     "text": [
      "Grabbing data for J235734.0608+352720.7684\n",
      "Your search yielded 1 match[es] within radius=0.5 arcsec\n",
      "Staged 1 spectra totalling 9.3e-05 Gb\n",
      "Loaded spectra\n",
      "Staged 1 spectra totalling 8e-05 Gb\n",
      "Loaded spectra\n"
     ]
    },
    {
     "name": "stderr",
     "output_type": "stream",
     "text": [
      "/home/xavier/local/Python/linetools/linetools/spectra/xspectrum1d.py:253: UserWarning: No unit given to wavelength, assuming Angstroms.\n",
      "  warnings.warn(\"No unit given to wavelength, assuming Angstroms.\")\n",
      "/home/xavier/local/Python/linetools/linetools/spectra/xspectrum1d.py:253: UserWarning: No unit given to wavelength, assuming Angstroms.\n",
      "  warnings.warn(\"No unit given to wavelength, assuming Angstroms.\")\n"
     ]
    }
   ],
   "source": [
    "xspecA, metaA = igmsp.get_sdss(1881, 6)"
   ]
  },
  {
   "cell_type": "code",
   "execution_count": 29,
   "metadata": {},
   "outputs": [
    {
     "name": "stderr",
     "output_type": "stream",
     "text": [
      "WARNING: MergeConflictWarning: Cannot merge meta key 'group' types <class 'str'> and <class 'str'>, choosing group='SDSS_DR7' [astropy.utils.metadata]\n"
     ]
    },
    {
     "name": "stdout",
     "output_type": "stream",
     "text": [
      "Grabbing data for J000135.5171-004206.7752\n",
      "Your search yielded 1 match[es] within radius=0.5 arcsec\n",
      "Staged 1 spectra totalling 9.3e-05 Gb\n",
      "Loaded spectra\n",
      "Staged 1 spectra totalling 8e-05 Gb\n",
      "Loaded spectra\n"
     ]
    },
    {
     "name": "stderr",
     "output_type": "stream",
     "text": [
      "/home/xavier/local/Python/linetools/linetools/spectra/xspectrum1d.py:253: UserWarning: No unit given to wavelength, assuming Angstroms.\n",
      "  warnings.warn(\"No unit given to wavelength, assuming Angstroms.\")\n",
      "/home/xavier/local/Python/linetools/linetools/spectra/xspectrum1d.py:253: UserWarning: No unit given to wavelength, assuming Angstroms.\n",
      "  warnings.warn(\"No unit given to wavelength, assuming Angstroms.\")\n"
     ]
    }
   ],
   "source": [
    "xspecB, metaB = igmsp.get_sdss(1489, 104)"
   ]
  },
  {
   "cell_type": "code",
   "execution_count": 30,
   "metadata": {},
   "outputs": [
    {
     "name": "stderr",
     "output_type": "stream",
     "text": [
      "WARNING: MergeConflictWarning: Cannot merge meta key 'group' types <class 'str'> and <class 'str'>, choosing group='SDSS_DR7' [astropy.utils.metadata]\n"
     ]
    },
    {
     "name": "stdout",
     "output_type": "stream",
     "text": [
      "Grabbing data for J000050.6009-102155.9116\n",
      "Your search yielded 1 match[es] within radius=0.5 arcsec\n",
      "Staged 1 spectra totalling 9.3e-05 Gb\n",
      "Loaded spectra\n",
      "Staged 1 spectra totalling 8e-05 Gb\n",
      "Loaded spectra\n"
     ]
    },
    {
     "name": "stderr",
     "output_type": "stream",
     "text": [
      "/home/xavier/local/Python/linetools/linetools/spectra/xspectrum1d.py:253: UserWarning: No unit given to wavelength, assuming Angstroms.\n",
      "  warnings.warn(\"No unit given to wavelength, assuming Angstroms.\")\n",
      "/home/xavier/local/Python/linetools/linetools/spectra/xspectrum1d.py:253: UserWarning: No unit given to wavelength, assuming Angstroms.\n",
      "  warnings.warn(\"No unit given to wavelength, assuming Angstroms.\")\n"
     ]
    }
   ],
   "source": [
    "xspecC, metaC = igmsp.get_sdss(650, 178)"
   ]
  },
  {
   "cell_type": "markdown",
   "metadata": {},
   "source": [
    "## Output"
   ]
  },
  {
   "cell_type": "code",
   "execution_count": 31,
   "metadata": {},
   "outputs": [],
   "source": [
    "np.savez('more_spectra_for_sam', \n",
    "         wave0=xspec[0].wavelength.value, \n",
    "         flux0=xspec[0].flux.value,\n",
    "         wave1=xspec1[0].wavelength.value, \n",
    "         flux1=xspec1[0].flux.value,\n",
    "         wave2=xspec2[0].wavelength.value, \n",
    "         flux2=xspec2[0].flux.value,\n",
    "         wave3=xspec3[0].wavelength.value, \n",
    "         flux3=xspec3[0].flux.value,\n",
    "         waveA=xspecA[0].wavelength.value, \n",
    "         fluxA=xspecA[0].flux.value,\n",
    "         waveB=xspecB[0].wavelength.value, \n",
    "         fluxB=xspecB[0].flux.value,\n",
    "         waveC=xspecC[0].wavelength.value, \n",
    "         fluxC=xspecC[0].flux.value,\n",
    "        )"
   ]
  }
 ],
 "metadata": {
  "kernelspec": {
   "display_name": "Python 3",
   "language": "python",
   "name": "python3"
  },
  "language_info": {
   "codemirror_mode": {
    "name": "ipython",
    "version": 3
   },
   "file_extension": ".py",
   "mimetype": "text/x-python",
   "name": "python",
   "nbconvert_exporter": "python",
   "pygments_lexer": "ipython3",
   "version": "3.7.3"
  }
 },
 "nbformat": 4,
 "nbformat_minor": 2
}
