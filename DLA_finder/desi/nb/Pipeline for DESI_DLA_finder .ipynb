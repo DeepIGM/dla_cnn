{
 "cells": [
  {
   "cell_type": "code",
   "execution_count": null,
   "metadata": {},
   "outputs": [],
   "source": [
    "from dla_cnn.desi.get_sightline import get_sightines\n",
    "from dla_cnn.desi.dataset import make_datasets\n",
    "from dla_cnn.desi.pred_sightline import get_results,save_pred\n",
    "from dla_cnn.desi.dla_catalog import catalog_fits"
   ]
  },
  {
   "cell_type": "markdown",
   "metadata": {},
   "source": [
    "# generate datasets:\n",
    "training set, tewting set, validation set"
   ]
  },
  {
   "cell_type": "code",
   "execution_count": null,
   "metadata": {},
   "outputs": [],
   "source": [
    "#using sightlines insert DLA manually in folder 7 to get training and testing set\n",
    "sightlines=get_sightlines(path='/desi-0.2-100/spectra-16/7',insert=True)\n",
    "#make training and testing set\n",
    "testnub=len(sightlines)//8\n",
    "testingset=make_datasets(sightlines[0:testnub],validate=False)\n",
    "trainingset=make_datasets(sightlines[testnub:-1],validate=False)\n",
    "#make validation set using foleder 6\n",
    "va_sightlines=get_sightlines(path='/desi-0.2-100/spectra-16/6',insert=False)\n",
    "validationset=make_datasets(va_sightlines,validate=True)\n",
    "\n",
    "\n"
   ]
  },
  {
   "cell_type": "markdown",
   "metadata": {},
   "source": [
    "# training model\n",
    "train and test the CNN model"
   ]
  },
  {
   "cell_type": "code",
   "execution_count": null,
   "metadata": {},
   "outputs": [],
   "source": [
    "#using trainingdataset and testdataset to train the CNN model\n",
    "#use the training,py in trainingmodel\n",
    "python training.py -i 1000000 -r 'traing_dataset.npy' -e 'test_dataset.npy' -c 'trainingmode/current' -t 600 -m 4\n",
    "#1000000:training iterations\n",
    "#600 4 :size of input data\n",
    "#-c path to save the model file : ckpt format\n",
    "#result : print training accuracy every 200 steps , print test accuracy every 5000 steps (classification accuracy)\n",
    "#and save a model file in trainingmode/current"
   ]
  },
  {
   "cell_type": "markdown",
   "metadata": {},
   "source": [
    "# Validation for window\n",
    "get the prediction for every window"
   ]
  },
  {
   "cell_type": "code",
   "execution_count": null,
   "metadata": {},
   "outputs": [],
   "source": [
    "#using ckpt model file to get the prediction \n",
    "#use the get_partpredection.py in trainingmodel\n",
    "#line 182 the input spectra file\n",
    "#line 185 use the model saved during training\n",
    "python get_partpredicition.py"
   ]
  },
  {
   "cell_type": "code",
   "execution_count": null,
   "metadata": {},
   "outputs": [],
   "source": [
    "#result : line 207,245 get the window prediction npy fiel\n",
    "#containing pred(0 or 1) conf(confidence level) offset coldensity\n",
    "#which could be used to get whole sightline prediction"
   ]
  },
  {
   "cell_type": "markdown",
   "metadata": {},
   "source": [
    "# Validation:\n",
    "get whole sightline prediction"
   ]
  },
  {
   "cell_type": "code",
   "execution_count": null,
   "metadata": {},
   "outputs": [],
   "source": [
    "level2=0.2\n",
    "level1=0.5\n",
    "#get absorber list for each sightline\n",
    "pred_abs=save_pred(va_sightlines,preds,level2,level1)\n",
    "#compare prediction with real absorbers,generate NHI,z hist and calculate confusion matrix\n",
    "tp,fn,fp,fn_pred,fp_pred=get_results(sightlines,pred_abs)"
   ]
  },
  {
   "cell_type": "markdown",
   "metadata": {},
   "source": [
    "# catalog:"
   ]
  },
  {
   "cell_type": "code",
   "execution_count": null,
   "metadata": {},
   "outputs": [],
   "source": [
    "catalog_fits(sightlines,pred_abs,dlafile='dlacatalog.fits',qsofile='qsocatalog.fits')"
   ]
  }
 ],
 "metadata": {
  "kernelspec": {
   "display_name": "Python 3",
   "language": "python",
   "name": "python3"
  },
  "language_info": {
   "codemirror_mode": {
    "name": "ipython",
    "version": 3
   },
   "file_extension": ".py",
   "mimetype": "text/x-python",
   "name": "python",
   "nbconvert_exporter": "python",
   "pygments_lexer": "ipython3",
   "version": "3.7.4"
  }
 },
 "nbformat": 4,
 "nbformat_minor": 2
}
