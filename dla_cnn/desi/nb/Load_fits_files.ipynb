{
 "cells": [
  {
   "cell_type": "code",
   "execution_count": 1,
   "metadata": {
    "ExecuteTime": {
     "end_time": "2020-04-02T14:29:15.293465Z",
     "start_time": "2020-04-02T14:29:15.286484Z"
    }
   },
   "outputs": [],
   "source": [
    "from dla_cnn.desi.DesiMock import DesiMock\n",
    "from dla_cnn.data_model.Sightline import Sightline\n",
    "from os.path import join,exists\n",
    "from matplotlib import pyplot as plt\n",
    "import numpy as np"
   ]
  },
  {
   "cell_type": "code",
   "execution_count": 2,
   "metadata": {
    "ExecuteTime": {
     "end_time": "2020-04-02T14:33:55.051415Z",
     "start_time": "2020-04-02T14:33:55.038444Z"
    }
   },
   "outputs": [],
   "source": [
    "def load_DesiMocks(files,path):\n",
    "    \"\"\"\n",
    "    Load each file in files as DesiMock, then return all of them as a list.\n",
    "    --------------------------------------------------------------------\n",
    "    prameters:\n",
    "    \n",
    "    files: list, the number of the fits files to be read\n",
    "    path: the dir of the folder where the fits files are saved\n",
    "    \n",
    "    ----------------------------------------------------------------------\n",
    "    return:\n",
    "    \n",
    "    Mocks: list, all files in DesiMock form \n",
    "    \"\"\"\n",
    "    Mocks = []\n",
    "    Missing = \"\"\n",
    "    for file in files:\n",
    "        file_path = join(path,str(file))\n",
    "        spectra = join(file_path,\"spectra-16-%s.fits\"%file)\n",
    "        truth = join(file_path,\"truth-16-%s.fits\"%file)\n",
    "        zbest = join(file_path,\"zbest-16-%s.fits\"%file)\n",
    "        if exists(spectra) and exists(truth) and exists(zbest):\n",
    "            mock = DesiMock()\n",
    "            mock.read_fits_file(spectra,truth,zbest)\n",
    "            Mocks.append(mock)\n",
    "        else:\n",
    "            Missing += str(file)+\" \"\n",
    "    assert Missing==\"\", \"Missing files:%s\"%Missing +\"Please check them!\"\n",
    "    return Mocks\n",
    "def sightline_retriever(sightline,Mocks):\n",
    "    \"\"\"\n",
    "    retrieve the sightline in a list of DesiMock using its id\n",
    "    --------------------------------------------------------\n",
    "    parameters:\n",
    "    \n",
    "    sightline:int, sightline id\n",
    "    Mocks: list, the list of DesiMock\n",
    "    \n",
    "    --------------------------------------------------------\n",
    "    return:\n",
    "    \n",
    "    sightline: dla_cnn.data_model.Sghtline.Sightline object, the sightline we need, if not find, return None\n",
    "    \"\"\"\n",
    "    for mock in Mocks:\n",
    "        if sightline in mock.data.keys():\n",
    "            return mock.get_sightline(sightline, camera='b',rebin=True, normalize=True)\n",
    "    return None"
   ]
  },
  {
   "cell_type": "code",
   "execution_count": 4,
   "metadata": {
    "ExecuteTime": {
     "end_time": "2020-04-02T14:34:47.754537Z",
     "start_time": "2020-04-02T14:34:42.595392Z"
    }
   },
   "outputs": [],
   "source": [
    "files = [705,706,718,723,731,735,743,747,761,773,777,785,791]\n",
    "path = '/Users/zjq/7'\n",
    "Mocks = load_DesiMocks(files,path)"
   ]
  },
  {
   "cell_type": "code",
   "execution_count": 6,
   "metadata": {
    "ExecuteTime": {
     "end_time": "2020-04-02T14:35:38.423023Z",
     "start_time": "2020-04-02T14:35:38.415044Z"
    }
   },
   "outputs": [],
   "source": [
    "sightline=sightline_retriever(120129166,Mocks)"
   ]
  },
  {
   "cell_type": "code",
   "execution_count": 7,
   "metadata": {},
   "outputs": [
    {
     "data": {
      "text/plain": [
       "3.134713888168335"
      ]
     },
     "execution_count": 7,
     "metadata": {},
     "output_type": "execute_result"
    }
   ],
   "source": [
    "sightline.z_qso"
   ]
  },
  {
   "cell_type": "code",
   "execution_count": null,
   "metadata": {},
   "outputs": [],
   "source": []
  }
 ],
 "metadata": {
  "kernelspec": {
   "display_name": "Python 3",
   "language": "python",
   "name": "python3"
  },
  "language_info": {
   "codemirror_mode": {
    "name": "ipython",
    "version": 3
   },
   "file_extension": ".py",
   "mimetype": "text/x-python",
   "name": "python",
   "nbconvert_exporter": "python",
   "pygments_lexer": "ipython3",
   "version": "3.7.4"
  },
  "toc": {
   "base_numbering": 1,
   "nav_menu": {},
   "number_sections": true,
   "sideBar": true,
   "skip_h1_title": false,
   "title_cell": "Table of Contents",
   "title_sidebar": "Contents",
   "toc_cell": false,
   "toc_position": {},
   "toc_section_display": true,
   "toc_window_display": false
  }
 },
 "nbformat": 4,
 "nbformat_minor": 2
}
