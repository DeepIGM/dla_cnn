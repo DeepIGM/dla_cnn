{
 "cells": [
  {
   "cell_type": "code",
   "execution_count": 1,
   "metadata": {},
   "outputs": [
    {
     "name": "stdout",
     "output_type": "stream",
     "text": [
      "read_sets: Using set file -- \n",
      "  /Users/zjq/linetools/linetools/lists/sets/llist_v1.3.ascii\n",
      "Loading abundances from Asplund2009\n",
      "Abundances are relative by number on a logarithmic scale with H=12\n",
      "read_sets: Using set file -- \n",
      "  /Users/zjq/linetools/linetools/lists/sets/llist_v1.3.ascii\n",
      "Loading abundances from Asplund2009\n",
      "Abundances are relative by number on a logarithmic scale with H=12\n"
     ]
    }
   ],
   "source": [
    "import multiprocessing\n",
    "from multiprocessing import Pool\n",
    "import itertools\n",
    "from dla_cnn.desi.training_sets import split_sightline_into_samples \n",
    "from dla_cnn.desi.preprocess import label_sightline\n",
    "from dla_cnn.spectra_utils import get_lam_data\n",
    "from dla_cnn.Timer import Timer\n",
    "from dla_cnn.training_set import select_samples_50p_pos_neg\n",
    "import matplotlib.pyplot as plt\n",
    "import numpy as np\n",
    "from astropy.io import fits\n",
    "from matplotlib.pyplot import MultipleLocator\n",
    "from dla_cnn.desi.DesiMock import DesiMock\n",
    "from dla_cnn.desi.load_fits_files import load_DesiMocks,sightline_retriever"
   ]
  },
  {
   "cell_type": "code",
   "execution_count": 2,
   "metadata": {},
   "outputs": [],
   "source": [
    "#load all fits files\n",
    "files = [700, 701, 702, 703, 704, 705, 706, 707, 708, 709, 710, 713, 714, 715, 716, 717, 718, 719, 720, 721, 722, 723, 724, 725, 726, 727, 728, 729, 730, 731, 732, 733, 734, 735, 736, 737, 738, 739, 740, 741, 742, 743, 744, 745, 746, 747, 748, 751, 752, 753, 754, 755, 756, 757, 758, 759, 760, 761, 762, 763, 764, 765, 768, 769, 770, 771, 772, 773, 774, 775, 776, 777, 778, 779, 780, 781, 782, 783, 784, 785, 786, 787, 788, 791, 792, 793, 794, 795, 796, 797, 798, 799]\n",
    "path = '/Users/zjq/7'\n",
    "Mocks = load_DesiMocks(files,path)"
   ]
  },
  {
   "cell_type": "code",
   "execution_count": 3,
   "metadata": {},
   "outputs": [],
   "source": [
    "#import all sightlines with DLA 17804\n",
    "idlist=np.load('/Users/zjq/sightlineid_with_dla.npy',allow_pickle=True)"
   ]
  },
  {
   "cell_type": "code",
   "execution_count": 33,
   "metadata": {},
   "outputs": [],
   "source": [
    "#generate 400pixel samples\n",
    "data_train = {}\n",
    "flux=[]\n",
    "labels_classifier=[]\n",
    "labels_offset=[]\n",
    "col_density=[]\n",
    "trainid=[]\n",
    "for ii in idlist:\n",
    "    sightline=sightline_retriever(ii,Mocks)\n",
    "    label_sightline(sightline, kernel=400, REST_RANGE=[900,1346], pos_sample_kernel_percent=0.3)#update\n",
    "    data_split=split_sightline_into_samples(sightline, REST_RANGE=[900,1346], kernel=400)#update\n",
    "    sample_masks=select_samples_50p_pos_neg(sightline,kernel=400)#update\n",
    "    if sample_masks.size !=0:\n",
    "        trainid.append(ii)\n",
    "        flux.append(np.vstack([data_split[0][m] for m in sample_masks]))\n",
    "        labels_classifier.append(np.hstack([data_split[1][m] for m in sample_masks]))\n",
    "        labels_offset.append(np.hstack([data_split[2][m] for m in sample_masks]))\n",
    "        col_density.append(np.hstack([data_split[3][m] for m in sample_masks]))"
   ]
  },
  {
   "cell_type": "code",
   "execution_count": 34,
   "metadata": {},
   "outputs": [],
   "source": [
    "#save training_data \n",
    "training_data = {trainid[i]:{'FLUX':flux[i],'labels_classifier': labels_classifier[i], 'labels_offset':labels_offset[i] , 'col_density': col_density[i]} for i in range(0,12333)}\n",
    "train_save_file='/Users/zjq/training_data.npy'\n",
    "np.save(train_save_file, training_data)"
   ]
  },
  {
   "cell_type": "code",
   "execution_count": 48,
   "metadata": {},
   "outputs": [],
   "source": [
    "#save testing_data \n",
    "testing_data = {trainid[i]:{'FLUX':flux[i],'labels_classifier': labels_classifier[i], 'labels_offset':labels_offset[i] , 'col_density': col_density[i]} for i in range(12333,15333)}\n",
    "test_save_file='/Users/zjq/testing_data.npy'\n",
    "np.save(test_save_file, testing_data)"
   ]
  }
 ],
 "metadata": {
  "kernelspec": {
   "display_name": "Python 3",
   "language": "python",
   "name": "python3"
  },
  "language_info": {
   "codemirror_mode": {
    "name": "ipython",
    "version": 3
   },
   "file_extension": ".py",
   "mimetype": "text/x-python",
   "name": "python",
   "nbconvert_exporter": "python",
   "pygments_lexer": "ipython3",
   "version": "3.7.4"
  }
 },
 "nbformat": 4,
 "nbformat_minor": 2
}
