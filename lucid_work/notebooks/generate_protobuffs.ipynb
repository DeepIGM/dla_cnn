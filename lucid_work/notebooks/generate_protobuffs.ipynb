{
 "cells": [
  {
   "cell_type": "code",
   "execution_count": 12,
   "metadata": {},
   "outputs": [],
   "source": [
    "# Imports\n",
    "import tensorflow as tf\n",
    "import json\n",
    "from dla_cnn.Model_v5 import build_model\n",
    "import lucid.modelzoo.util as util"
   ]
  },
  {
   "cell_type": "code",
   "execution_count": 10,
   "metadata": {},
   "outputs": [],
   "source": [
    "hyperparameters = json.loads(open('dla_cnn/models/model_gensample_v6.1.2_hyperparams.json').read())\n",
    "output_node_names = output_node_names=['y_nn_classifer', 'y_nn_offset', 'y_nn_coldensity']"
   ]
  },
  {
   "cell_type": "code",
   "execution_count": 24,
   "metadata": {},
   "outputs": [
    {
     "name": "stdout",
     "output_type": "stream",
     "text": [
      "INFO:tensorflow:Restoring parameters from dla_cnn/models/model_gensample_v6.1.2.ckpt\n"
     ]
    },
    {
     "name": "stderr",
     "output_type": "stream",
     "text": [
      "INFO:tensorflow:Restoring parameters from dla_cnn/models/model_gensample_v6.1.2.ckpt\n"
     ]
    },
    {
     "name": "stdout",
     "output_type": "stream",
     "text": [
      "Succesfully restored from checkpoint\n",
      "INFO:tensorflow:Froze 20 variables.\n"
     ]
    },
    {
     "name": "stderr",
     "output_type": "stream",
     "text": [
      "INFO:tensorflow:Froze 20 variables.\n"
     ]
    },
    {
     "name": "stdout",
     "output_type": "stream",
     "text": [
      "INFO:tensorflow:Converted 20 variables to const ops.\n"
     ]
    },
    {
     "name": "stderr",
     "output_type": "stream",
     "text": [
      "INFO:tensorflow:Converted 20 variables to const ops.\n"
     ]
    }
   ],
   "source": [
    "with tf.Graph().as_default():\n",
    "    model, tfo = build_model(hyperparameters)\n",
    "    with tf.device(''), tf.Session() as sess:\n",
    "        sess.run(tf.global_variables_initializer())\n",
    "        tf.train.Saver().restore(sess, 'dla_cnn/models/model_gensample_v6.1.2.ckpt')\n",
    "        print(\"Succesfully restored from checkpoint\")\n",
    "        output_graph_def = util.frozen_default_graph_def(['x'], output_node_names)\n",
    "    "
   ]
  },
  {
   "cell_type": "code",
   "execution_count": 19,
   "metadata": {},
   "outputs": [],
   "source": [
    "# from dla_cnn.Model_v5 import build_model\n",
    "\n",
    "# with tf.Graph().as_default():\n",
    "#     model, tfo = build_model(hyperparameters)\n",
    "#     with tf.device(''), tf.Session() as sess:\n",
    "#         sess.run(tf.global_variables_initializer())\n",
    "#         tf.train.Saver().restore(sess, 'dla_cnn/models/model_gensample_v6.1.2.ckpt')\n",
    "#         print(\"Succesfully restored from checkpoint\")\n",
    "#         graph = tf.get_default_graph()\n",
    "        \n",
    "#         output_graph_def = tf.graph_util.convert_variables_to_constants(\n",
    "#                 sess,\n",
    "#                 tf.get_default_graph().as_graph_def(),\n",
    "#                 output_node_names\n",
    "#             )\n",
    "        \n",
    "# for op in graph.get_operations():\n",
    "#     print(op.name)"
   ]
  },
  {
   "cell_type": "code",
   "execution_count": 22,
   "metadata": {},
   "outputs": [
    {
     "data": {
      "text/plain": [
       "'protobufs\\\\full_model_8_13.pb'"
      ]
     },
     "execution_count": 22,
     "metadata": {},
     "output_type": "execute_result"
    }
   ],
   "source": [
    "tf.io.write_graph(output_graph_def, 'protobufs', 'full_model_8_13.pbtxt', as_text=True)\n",
    "tf.io.write_graph(output_graph_def, 'protobufs', 'full_model_8_13.pb', as_text=False)"
   ]
  },
  {
   "cell_type": "code",
   "execution_count": 21,
   "metadata": {},
   "outputs": [],
   "source": [
    "# from dla_cnn.Model_v5_Updated import build_model\n",
    "\n",
    "# with tf.Graph().as_default():\n",
    "#     model, tfo = build_model(hyperparameters)\n",
    "#     with tf.device(''), tf.Session() as sess:\n",
    "#         sess.run(tf.global_variables_initializer())\n",
    "#         graph = tf.get_default_graph()\n",
    "        \n",
    "#         output_graph_def = tf.graph_util.convert_variables_to_constants(\n",
    "#                 sess,\n",
    "#                 tf.get_default_graph().as_graph_def(),\n",
    "#                 output_node_names\n",
    "#             )\n",
    "        \n",
    "# for op in graph.get_operations():\n",
    "#     print(op.name)"
   ]
  },
  {
   "cell_type": "code",
   "execution_count": 20,
   "metadata": {},
   "outputs": [],
   "source": [
    "# tf.io.write_graph(output_graph_def, 'protobufs', 'blank_model_400.pbtxt', as_text=True)\n",
    "# tf.io.write_graph(output_graph_def, 'protobufs', 'blank_model_400.pb', as_text=False)"
   ]
  },
  {
   "cell_type": "code",
   "execution_count": null,
   "metadata": {},
   "outputs": [],
   "source": []
  },
  {
   "cell_type": "code",
   "execution_count": null,
   "metadata": {},
   "outputs": [],
   "source": [
    "\n",
    "    "
   ]
  },
  {
   "cell_type": "code",
   "execution_count": null,
   "metadata": {},
   "outputs": [],
   "source": []
  }
 ],
 "metadata": {
  "kernelspec": {
   "display_name": "Python 3",
   "language": "python",
   "name": "python3"
  },
  "language_info": {
   "codemirror_mode": {
    "name": "ipython",
    "version": 3
   },
   "file_extension": ".py",
   "mimetype": "text/x-python",
   "name": "python",
   "nbconvert_exporter": "python",
   "pygments_lexer": "ipython3",
   "version": "3.7.1"
  }
 },
 "nbformat": 4,
 "nbformat_minor": 2
}
