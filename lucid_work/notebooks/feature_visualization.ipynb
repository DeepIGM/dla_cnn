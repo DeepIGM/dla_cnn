{
 "cells": [
  {
   "cell_type": "markdown",
   "metadata": {},
   "source": [
    "# Feature Visualization\n",
    "- This notebook does basic feature visualization of David Parks DLA CNN Model\n",
    "- The tools used come from the article \"Feature Visualization"
   ]
  },
  {
   "cell_type": "markdown",
   "metadata": {},
   "source": [
    "## Install imports, define and load model"
   ]
  },
  {
   "cell_type": "code",
   "execution_count": 2,
   "metadata": {},
   "outputs": [],
   "source": [
    "# Imports\n",
    "\n",
    "import numpy as np\n",
    "import tensorflow as tf\n",
    "import scipy.ndimage as nd\n",
    "import time\n",
    "import imageio\n",
    "\n",
    "import lucid.modelzoo.vision_models as models\n",
    "from lucid.misc.io import show\n",
    "import lucid.optvis.objectives as objectives\n",
    "import lucid.optvis.param as param\n",
    "import lucid.optvis.render as render\n",
    "import lucid.optvis.transform as transform"
   ]
  },
  {
   "cell_type": "code",
   "execution_count": 6,
   "metadata": {},
   "outputs": [],
   "source": [
    "from lucid.modelzoo.vision_base import Model\n",
    "\n",
    "class DLA(Model):\n",
    "    model_path = '../protobufs/full_model_8_13.pb'\n",
    "    image_shape = [1, 400]\n",
    "    image_value_range = [0, 1]\n",
    "    input_name = 'x'"
   ]
  },
  {
   "cell_type": "code",
   "execution_count": 7,
   "metadata": {},
   "outputs": [],
   "source": [
    "model = DLA()\n",
    "model.load_graphdef()\n",
    "\n",
    "# for node in model.graph_def.node:\n",
    "#     print(node.name)"
   ]
  },
  {
   "cell_type": "markdown",
   "metadata": {},
   "source": [
    "## Simple Visualization of a neuron\n",
    "- Can specify learning rate of the optimizer if you want"
   ]
  },
  {
   "cell_type": "code",
   "execution_count": 14,
   "metadata": {},
   "outputs": [
    {
     "data": {
      "text/html": [
       "<div style=\"display: flex; flex-direction: row;\"><div style=\"margin-right:10px; margin-top: 4px;\">\n",
       "              0 <br/>\n",
       "              <img src=\"data:image/PNG;base64,iVBORw0KGgoAAAANSUhEUgAAAZAAAAAKCAIAAAAVV58KAAAEgUlEQVR4nO1au67kRBA9p9v2sFcQIBGwAQSLREiKCPgcBH/CJ5BtyEcQ7V/ASgSkCAiXe2ds9yFoV3fZ47l3gLvLDOujkR/9nuqu01XV5kcvu5ef9Z8c4q8IUAIEw/REQgKYHyH4MuDsbcMCJh65hONCAhpgBL9OH37b/vhB+rznz6CQ1mVLQAKnmZk3TetrmxYH+kcKyovZrlmMFJQnjBAgYuzT/e1GCcBIxqoXBJQ70a5BIghAEFT6K11eFfLQ5Z6XebmApgVq6TQ1kMne4ZRmaKoHACQaaQQ/RpMrxHkNlRdTgqJ2awq34bHwZLr/Cylr20TORCYmLda4y9fDC34kAUQh7cSAwk0pK+YYyMpiACiBFHR1k0RUxppYnTNGmCSZNwB7IKksx4lABAghy51WnXPeWpNL7qVHg1BfT8K3cG2Cviq8f37RU1O27SjngtMlL2ep0pcmC7aYqytCZYwk2A9la+ctAekJtO8YR5AKpQcqG8QCJPI6dMibTcV2J10WqyVVXbBcQACpysyaNQYvApdPS6V1Opd9QJq3tbre6e5XIemLw5k00r3eUWyw/Z9zB2fhn0kIgEJNWDQTBqvXNGkn7RDucvPkLdgeNH4JioHZqIIpKH3HZB3HpcOxlOyHiZ2YeYXExPuku7g/WBrJDOW8w0WgycrLZQPAHRpFAKieuurAqsW8WVhvCGNZB/8Y2+Tch4WPZ+E+klC+AeamjPt1LpGkrlMaSwrbnmgACNJOFNG9wNAgCjnWCDj1M4/J3S4TS/NS85TqxlFG+fS1kmOPYlXOQqzFcHPUNIs3zlN6hHd/DwCr7BcDvg76v3ycuSjHGlDZ8JhYkf9SG835KNGZZleKkDeBu8DQhBBD0zDMNIZ6JzU707yUxt8goRmk29obQYgWxslu4iWzVYEfZTWYWJPkiKLQi5DdX0gznnP0p3qttWedWddGdncKv3xxgHCCsNwwsWnRG8Dhvx7AWwHvp2ieUMmEpnMAgPBqBIVsSShIEQC/ERn5ldgPGg8A1EWmjnyKsQPBtjUvdAr25MD79LvgMywePcjnkdWfK16hRdkB5+5lA9M2g/xs7Tz051Watc57hE9/2InOW18MWSeurtENjwcjrE2qrxUrBsOUXEyBVAoAyKeBgRwGpoGHg8Y+SOE7IIjPYz4rVNtAQKACEIHUqm+rH1WDWdbZBbuDxcEroTa4sz9A5uYSwZIm/lV1D1lto+m44Shc6HtbT3C9okX449mwVsPGe6k7wP8Uf55ftMYMjrBN2t9DOYk3ONlWWYZXKfNbampGGEZEhi6yi0iSfuJ+CIdBAUIyQiyfTjDbV8B1TBLLoSnqX6l+Wn6XJlPUidFODH04yniPXNpWVdzFEjvKzHiPTRi4TkslEnb/JnDBu8QVYv9wEa7q1iz/uNTbDv8dwbHEuLLtLyNcwOj4i02jYQAQBe6H/D1kCt+jfZbz420/3rRI5l6qqjgA+z710lGE4E3SmleDVfk81JiN2SiSUiF9kVQ2Mqfv0K1VeSdx0QewcBxv8BfbkBhHab7pYgAAAABJRU5ErkJggg==\" style=\"image-rendering: pixelated;\">\n",
       "            </div></div>"
      ],
      "text/plain": [
       "<IPython.core.display.HTML object>"
      ]
     },
     "metadata": {},
     "output_type": "display_data"
    }
   ],
   "source": [
    "# # Can specify learning rate if desired, would need to pass through when rendering:\n",
    "# # render_vis(..., ..., ..., optimizer=optimizer)\n",
    "# # LEARNING_RATE=.25\n",
    "# # optimizer = tf.train.AdamOptimizer(LEARNING_RATE)\n",
    "\n",
    "\n",
    "# Specify param.image size to work with our models input, must be a multiple of 400.\n",
    "param_f = lambda: param.image(400, h=10)\n",
    "\n",
    "# Specify the objective we are trying to visualize, which layer, neuron\n",
    "channel = lambda n: objectives.channel(\"Conv2D\", n)\n",
    "obj = channel(0)\n",
    "\n",
    "# Specify what threhsolds to display optimization steps\n",
    "thresholds = (256,)\n",
    "\n",
    "# For basic visualizations dont apply any transformation robustness\n",
    "transforms = []\n",
    "\n",
    "# Render the objevtive\n",
    "imgs = render.render_vis(model, obj, param_f, thresholds=thresholds, transforms=transforms, verbose=False)\n",
    "show([nd.zoom(img[0], [1,1,1], order=0) for img in imgs])"
   ]
  },
  {
   "cell_type": "markdown",
   "metadata": {},
   "source": [
    "# Save basic visualizations for Conv2D"
   ]
  },
  {
   "cell_type": "code",
   "execution_count": null,
   "metadata": {},
   "outputs": [],
   "source": [
    "# # Render all 100 neurons in Conv2D\n",
    "# # Do 256 optmimization steps\n",
    "\n",
    "# param_f = lambda: param.image(100, h=100)\n",
    "# channel = lambda n: objectives.channel(\"Conv2D\", n)\n",
    "\n",
    "# thresholds = (256,)\n",
    "# neurons = []\n",
    "\n",
    "# start = time.time()\n",
    "# for i in range(0, 100):\n",
    "#     print(\"Optimizing Conv2D:\" + str(i) + \" .........\", end='')\n",
    "#     obj = channel(i)\n",
    "#     img = render.render_vis(model, obj, param_f, thresholds=thresholds, transforms=transforms, verbose=False)\n",
    "#     print(\"done.\")\n",
    "#     neurons.append(img)\n",
    "# finish = time.time()\n",
    "# print(\"Finished in \" + str(finish-start) + \" seconds.\")    \n",
    "\n",
    "# # Display all neurons from Conv2D\n",
    "# for i in range(len(neurons)):\n",
    "#     print(i)\n",
    "#     show(neurons[i][0][0])\n",
    "    \n",
    "# # Save visualizations to disk as png files\n",
    "# for i in range(len(neurons)):\n",
    "#     img = neurons[i][0][0]\n",
    "#     filename = 'Conv2D_' + str(i) + '.png'\n",
    "#     path = 'model_visualizations/Conv2D/' + filename\n",
    "#     imageio.imwrite(path, img)"
   ]
  },
  {
   "cell_type": "markdown",
   "metadata": {},
   "source": [
    "# Save basic visualizations for Relu after Conv2D"
   ]
  },
  {
   "cell_type": "code",
   "execution_count": null,
   "metadata": {},
   "outputs": [],
   "source": [
    "# # Render all 100 neurons in Relu after Conv2D\n",
    "# # Do 256 optmimization steps\n",
    "\n",
    "# param_f = lambda: param.image(100, h=100)\n",
    "# channel = lambda n: objectives.channel(\"Relu\", n)\n",
    "\n",
    "\n",
    "# thresholds = (256,)\n",
    "# neurons = []\n",
    "\n",
    "# start = time.time()\n",
    "# for i in range(0, 100):\n",
    "#     print(\"Optimizing Relu:\" + str(i) + \" .........\", end='')\n",
    "#     obj = channel(i)\n",
    "#     img = render.render_vis(model, obj, param_f, thresholds=thresholds, transforms=transforms, verbose=False)\n",
    "#     print(\"done.\")\n",
    "#     neurons.append(img)\n",
    "# finish = time.time()\n",
    "# print(\"Finished in \" + str(finish-start) + \" seconds.\") \n",
    "\n",
    "# # Display all neurons from Relu\n",
    "# for i in range(len(neurons)):\n",
    "#     print(i)\n",
    "#     show(neurons[i][0][0])\n",
    "    \n",
    "# # Save visualizations to disk as png files\n",
    "# for i in range(len(neurons)):\n",
    "#     img = neurons[i][0][0]\n",
    "#     filename = 'Relu_' + str(i) + '.png'\n",
    "#     path = 'model_visualizations/Relu/' + filename\n",
    "#     imageio.imwrite(path, img)"
   ]
  },
  {
   "cell_type": "markdown",
   "metadata": {},
   "source": [
    "# Save basic visualizations for Pool1"
   ]
  },
  {
   "cell_type": "code",
   "execution_count": null,
   "metadata": {},
   "outputs": [],
   "source": [
    "# # Render all 100 neurons in Pool1\n",
    "# # Do 256 optmimization steps\n",
    "\n",
    "# param_f = lambda: param.image(100, h=100)\n",
    "# channel = lambda n: objectives.channel(\"MaxPool\", n)\n",
    "\n",
    "# transforms=[]\n",
    "# thresholds = (256,)\n",
    "# neurons = []\n",
    "\n",
    "# start = time.time()\n",
    "# for i in range(0, 100):\n",
    "#     print(\"Optimizing Relu:\" + str(i) + \" .........\", end='')\n",
    "#     obj = channel(i)\n",
    "#     img = render.render_vis(model, obj, param_f, thresholds=thresholds, transforms=transforms, verbose=False)\n",
    "#     print(\"done.\")\n",
    "#     neurons.append(img)\n",
    "# finish = time.time()\n",
    "# print(\"Finished in \" + str(finish-start) + \" seconds.\") \n",
    "\n",
    "# # Display all neurons from Relu\n",
    "# for i in range(len(neurons)):\n",
    "#     print(i)\n",
    "#     show(neurons[i][0][0])\n",
    "    \n",
    "# # Save visualizations to disk as png files\n",
    "# for i in range(len(neurons)):\n",
    "#     img = neurons[i][0][0]\n",
    "#     filename = 'MaxPool_' + str(i) + '.png'\n",
    "#     path = 'model_visualizations/MaxPool/' + filename\n",
    "#     imageio.imwrite(path, img)"
   ]
  },
  {
   "cell_type": "markdown",
   "metadata": {},
   "source": [
    "# Save basic visualizations for Conv2D_1, Relu_1, and MaxPool_1"
   ]
  },
  {
   "cell_type": "code",
   "execution_count": null,
   "metadata": {},
   "outputs": [],
   "source": [
    "# # Render all 100 neurons in Pool1\n",
    "# # Do 256 optmimization steps\n",
    "\n",
    "# param_f = lambda: param.image(100, h=100)\n",
    "# channel = lambda n: objectives.channel(\"Conv2D_1\", n)\n",
    "\n",
    "# transforms=[]\n",
    "# thresholds = (256,)\n",
    "# neurons = []\n",
    "\n",
    "# start = time.time()\n",
    "# for i in range(0, 96):\n",
    "#     print(\"Optimizing Relu:\" + str(i) + \" .........\", end='')\n",
    "#     obj = channel(i)\n",
    "#     img = render.render_vis(model, obj, param_f, thresholds=thresholds, transforms=transforms, verbose=False)\n",
    "#     print(\"done.\")\n",
    "#     neurons.append(img)\n",
    "# finish = time.time()\n",
    "# print(\"Finished in \" + str(finish-start) + \" seconds.\") \n",
    "\n",
    "# # Display all neurons from Relu\n",
    "# for i in range(len(neurons)):\n",
    "#     print(i)\n",
    "#     show(neurons[i][0][0])\n",
    "    \n",
    "# # Save visualizations to disk as png files\n",
    "# for i in range(len(neurons)):\n",
    "#     img = neurons[i][0][0]\n",
    "#     filename = 'Conv2D_1_' + str(i) + '.png'\n",
    "#     path = 'model_visualizations/conv2/' + filename\n",
    "#     imageio.imwrite(path, img)"
   ]
  },
  {
   "cell_type": "code",
   "execution_count": null,
   "metadata": {},
   "outputs": [],
   "source": [
    "# param_f = lambda: param.image(100, h=100)\n",
    "# channel = lambda n: objectives.channel(\"Relu_1\", n)\n",
    "\n",
    "# transforms=[]\n",
    "# thresholds = (256,)\n",
    "# neurons = []\n",
    "\n",
    "# start = time.time()\n",
    "# for i in range(0, 96):\n",
    "#     print(\"Optimizing Relu:\" + str(i) + \" .........\", end='')\n",
    "#     obj = channel(i)\n",
    "#     img = render.render_vis(model, obj, param_f, thresholds=thresholds, transforms=transforms, verbose=False)\n",
    "#     print(\"done.\")\n",
    "#     neurons.append(img)\n",
    "# finish = time.time()\n",
    "# print(\"Finished in \" + str(finish-start) + \" seconds.\") \n",
    "\n",
    "# # Display all neurons from Relu\n",
    "# for i in range(len(neurons)):\n",
    "#     print(i)\n",
    "#     show(neurons[i][0][0])\n",
    "    \n",
    "# # Save visualizations to disk as png files\n",
    "# for i in range(len(neurons)):\n",
    "#     img = neurons[i][0][0]\n",
    "#     filename = 'Relu_1_' + str(i) + '.png'\n",
    "#     path = 'model_visualizations/conv2_relu/' + filename\n",
    "#     imageio.imwrite(path, img)"
   ]
  },
  {
   "cell_type": "code",
   "execution_count": null,
   "metadata": {},
   "outputs": [],
   "source": [
    "# param_f = lambda: param.image(100, h=100)\n",
    "# channel = lambda n: objectives.channel(\"MaxPool_1\", n)\n",
    "\n",
    "# transforms=[]\n",
    "# thresholds = (256,)\n",
    "# neurons = []\n",
    "\n",
    "# start = time.time()\n",
    "# for i in range(0, 96):\n",
    "#     print(\"Optimizing Relu:\" + str(i) + \" .........\", end='')\n",
    "#     obj = channel(i)\n",
    "#     img = render.render_vis(model, obj, param_f, thresholds=thresholds, transforms=transforms, verbose=False)\n",
    "#     print(\"done.\")\n",
    "#     neurons.append(img)\n",
    "# finish = time.time()\n",
    "# print(\"Finished in \" + str(finish-start) + \" seconds.\") \n",
    "\n",
    "# # Display all neurons from Relu\n",
    "# for i in range(len(neurons)):\n",
    "#     print(i)\n",
    "#     show(neurons[i][0][0])\n",
    "    \n",
    "# # Save visualizations to disk as png files\n",
    "# for i in range(len(neurons)):\n",
    "#     img = neurons[i][0][0]\n",
    "#     filename = 'MaxPool_1_' + str(i) + '.png'\n",
    "#     path = 'model_visualizations/pool2/' + filename\n",
    "#     imageio.imwrite(path, img)"
   ]
  },
  {
   "cell_type": "markdown",
   "metadata": {},
   "source": [
    "# Save basic visualizations for Conv2D_2, Relu_2, and MaxPool_2"
   ]
  },
  {
   "cell_type": "code",
   "execution_count": null,
   "metadata": {},
   "outputs": [],
   "source": [
    "# param_f = lambda: param.image(100, h=100)\n",
    "# channel = lambda n: objectives.channel(\"Conv2D_2\", n)\n",
    "\n",
    "# transforms=[]\n",
    "# thresholds = (256,)\n",
    "# neurons = []\n",
    "\n",
    "# start = time.time()\n",
    "# for i in range(0, 96):\n",
    "#     print(\"Optimizing Relu:\" + str(i) + \" .........\", end='')\n",
    "#     obj = channel(i)\n",
    "#     img = render.render_vis(model, obj, param_f, thresholds=thresholds, transforms=transforms, verbose=False)\n",
    "#     print(\"done.\")\n",
    "#     neurons.append(img)\n",
    "# finish = time.time()\n",
    "# print(\"Finished in \" + str(finish-start) + \" seconds.\") \n",
    "\n",
    "# # Display all neurons from Relu\n",
    "# for i in range(len(neurons)):\n",
    "#     print(i) \n",
    "#     show(neurons[i][0][0])\n",
    "    \n",
    "# # Save visualizations to disk as png files\n",
    "# for i in range(len(neurons)):\n",
    "#     img = neurons[i][0][0]\n",
    "#     filename = 'Conv2D_2_' + str(i) + '.png'\n",
    "#     path = 'model_visualizations/conv3/' + filename\n",
    "#     imageio.imwrite(path, img)"
   ]
  },
  {
   "cell_type": "code",
   "execution_count": null,
   "metadata": {},
   "outputs": [],
   "source": [
    "# param_f = lambda: param.image(100, h=100)\n",
    "# channel = lambda n: objectives.channel(\"Relu_2\", n)\n",
    "\n",
    "# transforms=[]\n",
    "# thresholds = (256,)\n",
    "# neurons = []\n",
    "\n",
    "# start = time.time()\n",
    "# for i in range(0, 96):\n",
    "#     print(\"Optimizing Relu:\" + str(i) + \" .........\", end='')\n",
    "#     obj = channel(i)\n",
    "#     img = render.render_vis(model, obj, param_f, thresholds=thresholds, transforms=transforms, verbose=False)\n",
    "#     print(\"done.\")\n",
    "#     neurons.append(img)\n",
    "# finish = time.time()\n",
    "# print(\"Finished in \" + str(finish-start) + \" seconds.\") \n",
    "\n",
    "# # Display all neurons from Relu\n",
    "# for i in range(len(neurons)):\n",
    "#     print(i)\n",
    "#     show(neurons[i][0][0])\n",
    "    \n",
    "# # Save visualizations to disk as png files\n",
    "# for i in range(len(neurons)):\n",
    "#     img = neurons[i][0][0]\n",
    "#     filename = 'Relu_2_' + str(i) + '.png'\n",
    "#     path = 'model_visualizations/conv3_relu/' + filename\n",
    "#     imageio.imwrite(path, img)"
   ]
  },
  {
   "cell_type": "code",
   "execution_count": null,
   "metadata": {},
   "outputs": [],
   "source": [
    "# param_f = lambda: param.image(100, h=100)\n",
    "# channel = lambda n: objectives.channel(\"MaxPool_2\", n)\n",
    "\n",
    "# transforms=[]\n",
    "# thresholds = (256,)\n",
    "# neurons = []\n",
    "\n",
    "# start = time.time()\n",
    "# for i in range(0, 96):\n",
    "#     print(\"Optimizing Relu:\" + str(i) + \" .........\", end='')\n",
    "#     obj = channel(i)\n",
    "#     img = render.render_vis(model, obj, param_f, thresholds=thresholds, transforms=transforms, verbose=False)\n",
    "#     print(\"done.\")\n",
    "#     neurons.append(img)\n",
    "# finish = time.time()\n",
    "# print(\"Finished in \" + str(finish-start) + \" seconds.\") \n",
    "\n",
    "# # Display all neurons from Relu\n",
    "# for i in range(len(neurons)):\n",
    "#     print(i)\n",
    "#     show(neurons[i][0][0])\n",
    "    \n",
    "# # Save visualizations to disk as png files\n",
    "# for i in range(len(neurons)):\n",
    "#     img = neurons[i][0][0]\n",
    "#     filename = 'MaxPool_2_' + str(i) + '.png'\n",
    "#     path = 'model_visualizations/pool3/' + filename\n",
    "#     imageio.imwrite(path, img)"
   ]
  },
  {
   "cell_type": "markdown",
   "metadata": {},
   "source": [
    "# Save basic visualizations for First Fully Connected Layer (MatMul and Relu)"
   ]
  },
  {
   "cell_type": "code",
   "execution_count": null,
   "metadata": {},
   "outputs": [],
   "source": [
    "# param_f = lambda: param.image(100, h=100)\n",
    "# channel = lambda n: objectives.channel(\"MatMul\", n)\n",
    "\n",
    "# transforms=[]\n",
    "# thresholds = (256,)\n",
    "# neurons = []\n",
    "\n",
    "# start = time.time()\n",
    "# for i in range(0, 350):\n",
    "#     print(\"Optimizing FCL_1:\" + str(i) + \" .........\", end='')\n",
    "#     obj = channel(i)\n",
    "#     img = render.render_vis(model, obj, param_f, thresholds=thresholds, transforms=transforms, verbose=False)\n",
    "#     print(\"done.\")\n",
    "#     neurons.append(img)\n",
    "# finish = time.time()\n",
    "# print(\"Finished in \" + str(finish-start) + \" seconds.\") \n",
    "\n",
    "# # Display all neurons from Relu\n",
    "# for i in range(len(neurons)):\n",
    "#     print(i) \n",
    "#     show(neurons[i][0][0])\n",
    "    \n",
    "# # Save visualizations to disk as png files\n",
    "# for i in range(len(neurons)):\n",
    "#     img = neurons[i][0][0]\n",
    "#     filename = 'FCL_1_' + str(i) + '.png'\n",
    "#     path = 'model_visualizations/fcl_1/' + filename\n",
    "#     imageio.imwrite(path, img)"
   ]
  },
  {
   "cell_type": "code",
   "execution_count": null,
   "metadata": {},
   "outputs": [],
   "source": [
    "# param_f = lambda: param.image(100, h=100)\n",
    "# channel = lambda n: objectives.channel(\"Relu_3\", n)\n",
    "\n",
    "# transforms=[]\n",
    "# thresholds = (256,)\n",
    "# neurons = []\n",
    "\n",
    "# start = time.time()\n",
    "# for i in range(0, 350):\n",
    "#     print(\"Optimizing FCL_1_Relu:\" + str(i) + \" .........\", end='')\n",
    "#     obj = channel(i)\n",
    "#     img = render.render_vis(model, obj, param_f, thresholds=thresholds, transforms=transforms, verbose=False)\n",
    "#     print(\"done.\")\n",
    "#     neurons.append(img)\n",
    "# finish = time.time()\n",
    "# print(\"Finished in \" + str(finish-start) + \" seconds.\") \n",
    "\n",
    "# # Display all neurons from Relu\n",
    "# for i in range(len(neurons)):\n",
    "#     print(i) \n",
    "#     show(neurons[i][0][0])\n",
    "    \n",
    "# # Save visualizations to disk as png files\n",
    "# for i in range(len(neurons)):\n",
    "#     img = neurons[i][0][0]\n",
    "#     filename = 'Relu_3_' + str(i) + '.png'\n",
    "#     path = 'model_visualizations/fcl_1_relu/' + filename\n",
    "#     imageio.imwrite(path, img)"
   ]
  },
  {
   "cell_type": "markdown",
   "metadata": {},
   "source": [
    "# Visualizations for last 3 FC layers and output nodes\n",
    "- Need to make the change in vision_base.py to take in feed_dict{}"
   ]
  },
  {
   "cell_type": "code",
   "execution_count": null,
   "metadata": {},
   "outputs": [],
   "source": [
    "# param_f = lambda: param.image(100, h=100)\n",
    "# channel = lambda n: objectives.channel(\"MatMul_1\", n)\n",
    "\n",
    "# transforms=[]\n",
    "# thresholds = (256,)\n",
    "# neurons = []\n",
    "\n",
    "# start = time.time()\n",
    "# for i in range(0, 200):\n",
    "#     print(\"Optimizing MatMul_1:\" + str(i) + \" .........\", end='')\n",
    "#     obj = channel(i)\n",
    "#     img = render.render_vis(model, obj, param_f, thresholds=thresholds, transforms=transforms, verbose=False)\n",
    "#     print(\"done.\")\n",
    "#     neurons.append(img)\n",
    "# finish = time.time()\n",
    "# print(\"Finished in \" + str(finish-start) + \" seconds.\") \n",
    "\n",
    "# # Display all neurons from Relu\n",
    "# for i in range(len(neurons)):\n",
    "#     print(i) \n",
    "#     show(neurons[i][0][0])\n",
    "    \n",
    "# # Save visualizations to disk as png files\n",
    "# for i in range(len(neurons)):\n",
    "#     img = neurons[i][0][0]\n",
    "#     filename = 'FCL_2_' + str(i) + '.png'\n",
    "#     path = 'model_visualizations/fcl_2/' + filename\n",
    "#     imageio.imwrite(path, img)"
   ]
  },
  {
   "cell_type": "code",
   "execution_count": null,
   "metadata": {},
   "outputs": [],
   "source": [
    "# param_f = lambda: param.image(100, h=100)\n",
    "# channel = lambda n: objectives.channel(\"Relu_4\", n)\n",
    "\n",
    "# transforms=[]\n",
    "# thresholds = (256,)\n",
    "# neurons = []\n",
    "\n",
    "# start = time.time()\n",
    "# for i in range(0, 350):\n",
    "#     print(\"Optimizing Relu_4:\" + str(i) + \" .........\", end='')\n",
    "#     obj = channel(i)\n",
    "#     img = render.render_vis(model, obj, param_f, thresholds=thresholds, transforms=transforms, verbose=False)\n",
    "#     print(\"done.\")\n",
    "#     neurons.append(img)\n",
    "# finish = time.time()\n",
    "# print(\"Finished in \" + str(finish-start) + \" seconds.\") \n",
    "\n",
    "# # Display all neurons from Relu\n",
    "# for i in range(len(neurons)):\n",
    "#     print(i) \n",
    "#     show(neurons[i][0][0])\n",
    "    \n",
    "# # Save visualizations to disk as png files\n",
    "# for i in range(len(neurons)):\n",
    "#     img = neurons[i][0][0]\n",
    "#     filename = 'Relu_4_' + str(i) + '.png'\n",
    "#     path = 'model_visualizations/fcl_2_relu/' + filename\n",
    "#     imageio.imwrite(path, img)"
   ]
  },
  {
   "cell_type": "code",
   "execution_count": null,
   "metadata": {},
   "outputs": [],
   "source": [
    "# param_f = lambda: param.image(100, h=100)\n",
    "# channel = lambda n: objectives.channel(\"MatMul_2\", n)\n",
    "\n",
    "# transforms=[]\n",
    "# thresholds = (256,)\n",
    "# neurons = []\n",
    "\n",
    "# start = time.time()\n",
    "# for i in range(0, 350):\n",
    "#     print(\"Optimizing MatMul_2:\" + str(i) + \" .........\", end='')\n",
    "#     obj = channel(i)\n",
    "#     img = render.render_vis(model, obj, param_f, thresholds=thresholds, transforms=transforms, verbose=False)\n",
    "#     print(\"done.\")\n",
    "#     neurons.append(img)\n",
    "# finish = time.time()\n",
    "# print(\"Finished in \" + str(finish-start) + \" seconds.\") \n",
    "\n",
    "# # Display all neurons from Relu\n",
    "# for i in range(len(neurons)):\n",
    "#     print(i) \n",
    "#     show(neurons[i][0][0])\n",
    "    \n",
    "# # Save visualizations to disk as png files\n",
    "# for i in range(len(neurons)):\n",
    "#     img = neurons[i][0][0]\n",
    "#     filename = 'FCL_3_' + str(i) + '.png'\n",
    "#     path = 'model_visualizations/fcl_3/' + filename\n",
    "#     imageio.imwrite(path, img)"
   ]
  },
  {
   "cell_type": "code",
   "execution_count": null,
   "metadata": {},
   "outputs": [],
   "source": [
    "# param_f = lambda: param.image(100, h=100)\n",
    "# channel = lambda n: objectives.channel(\"Relu_5\", n)\n",
    "\n",
    "# transforms=[]\n",
    "# thresholds = (256,)\n",
    "# neurons = []\n",
    "\n",
    "# start = time.time()\n",
    "# for i in range(0, 350):\n",
    "#     print(\"Optimizing Relu_5:\" + str(i) + \" .........\", end='')\n",
    "#     obj = channel(i)\n",
    "#     img = render.render_vis(model, obj, param_f, thresholds=thresholds, transforms=transforms, verbose=False)\n",
    "#     print(\"done.\")\n",
    "#     neurons.append(img)\n",
    "# finish = time.time()\n",
    "# print(\"Finished in \" + str(finish-start) + \" seconds.\") \n",
    "\n",
    "# # Display all neurons from Relu\n",
    "# for i in range(len(neurons)):\n",
    "#     print(i) \n",
    "#     show(neurons[i][0][0])\n",
    "    \n",
    "# # Save visualizations to disk as png files\n",
    "# for i in range(len(neurons)):\n",
    "#     img = neurons[i][0][0]\n",
    "#     filename = 'Relu_5_' + str(i) + '.png'\n",
    "#     path = 'model_visualizations/fcl_3_relu/' + filename\n",
    "#     imageio.imwrite(path, img)"
   ]
  },
  {
   "cell_type": "code",
   "execution_count": null,
   "metadata": {},
   "outputs": [],
   "source": [
    "# param_f = lambda: param.image(100, h=100)\n",
    "# channel = lambda n: objectives.channel(\"MatMul_3\", n)\n",
    "\n",
    "# transforms=[]\n",
    "# thresholds = (256,)\n",
    "# neurons = []\n",
    "\n",
    "# start = time.time()\n",
    "# for i in range(0, 150):\n",
    "#     print(\"Optimizing MatMul_3:\" + str(i) + \" .........\", end='')\n",
    "#     obj = channel(i)\n",
    "#     img = render.render_vis(model, obj, param_f, thresholds=thresholds, transforms=transforms, verbose=False)\n",
    "#     print(\"done.\")\n",
    "#     neurons.append(img)\n",
    "# finish = time.time()\n",
    "# print(\"Finished in \" + str(finish-start) + \" seconds.\") \n",
    "\n",
    "# # Display all neurons from Relu\n",
    "# for i in range(len(neurons)):\n",
    "#     print(i) \n",
    "#     show(neurons[i][0][0])\n",
    "    \n",
    "# # Save visualizations to disk as png files\n",
    "# for i in range(len(neurons)):\n",
    "#     img = neurons[i][0][0]\n",
    "#     filename = 'FCL_4_' + str(i) + '.png'\n",
    "#     path = 'model_visualizations/fcl_4/' + filename\n",
    "#     imageio.imwrite(path, img)"
   ]
  },
  {
   "cell_type": "code",
   "execution_count": null,
   "metadata": {},
   "outputs": [],
   "source": [
    "# param_f = lambda: param.image(100, h=100)\n",
    "# channel = lambda n: objectives.channel(\"Relu_6\", n)\n",
    "\n",
    "# transforms=[]\n",
    "# thresholds = (256,)\n",
    "# neurons = []\n",
    "\n",
    "# start = time.time()\n",
    "# for i in range(0, 150):\n",
    "#     print(\"Optimizing Relu_6:\" + str(i) + \" .........\", end='')\n",
    "#     obj = channel(i)\n",
    "#     img = render.render_vis(model, obj, param_f, thresholds=thresholds, transforms=transforms, verbose=False)\n",
    "#     print(\"done.\")\n",
    "#     neurons.append(img)\n",
    "# finish = time.time()\n",
    "# print(\"Finished in \" + str(finish-start) + \" seconds.\") \n",
    "\n",
    "# # Display all neurons from Relu\n",
    "# for i in range(len(neurons)):\n",
    "#     print(i) \n",
    "#     show(neurons[i][0][0])\n",
    "    \n",
    "# # Save visualizations to disk as png files\n",
    "# for i in range(len(neurons)):\n",
    "#     img = neurons[i][0][0]\n",
    "#     filename = 'Relu_6_' + str(i) + '.png'\n",
    "#     path = 'model_visualizations/fcl_4_relu/' + filename\n",
    "#     imageio.imwrite(path, img)"
   ]
  },
  {
   "cell_type": "code",
   "execution_count": null,
   "metadata": {},
   "outputs": [],
   "source": [
    "# param_f = lambda: param.image(100, h=100)\n",
    "# channel = lambda n: objectives.channel(\"MatMul_4\", n)\n",
    "# obj = channel(0)\n",
    "\n",
    "# transforms=[]\n",
    "# thresholds = (256,)\n",
    "# neurons = []\n",
    "\n",
    "# img = render.render_vis(model, obj, param_f, thresholds=thresholds, transforms=transforms, verbose=False)\n",
    "# neurons.append(img)\n",
    "\n",
    "# vis = img[0][0]\n",
    "# show(vis)\n",
    "\n",
    "# filename = 'MatMul_4_0' + str(i) + '.png'\n",
    "# path = 'model_visualizations/classification_pre/' + filename\n",
    "# imageio.imwrite(path, img)"
   ]
  },
  {
   "cell_type": "code",
   "execution_count": null,
   "metadata": {},
   "outputs": [],
   "source": [
    "# param_f = lambda: param.image(100, h=100)\n",
    "# channel = lambda n: objectives.channel(\"y_nn_classifer\", n)\n",
    "\n",
    "# transforms=[]\n",
    "# thresholds = (256,)\n",
    "# neurons = []\n",
    "\n",
    "# start = time.time()\n",
    "# for i in range(0, 75):\n",
    "#     print(\"Optimizing y_nn_classifer:\" + str(i) + \" .........\", end='')\n",
    "#     obj = channel(i)\n",
    "#     img = render.render_vis(model, obj, param_f, thresholds=thresholds, transforms=transforms, verbose=False)\n",
    "#     print(\"done.\")\n",
    "#     neurons.append(img)\n",
    "# finish = time.time()\n",
    "# print(\"Finished in \" + str(finish-start) + \" seconds.\") \n",
    "\n",
    "# # Display all neurons from Relu\n",
    "# for i in range(len(neurons)):\n",
    "#     print(i) \n",
    "#     show(neurons[i][0][0])\n",
    "    \n",
    "# # Save visualizations to disk as png files\n",
    "# for i in range(len(neurons)):\n",
    "#     img = neurons[i][0][0]\n",
    "#     filename = 'y_nn_class_' + str(i) + '.png'\n",
    "#     path = 'model_visualizations/y_nn_classifer/' + filename\n",
    "#     imageio.imwrite(path, img)"
   ]
  },
  {
   "cell_type": "code",
   "execution_count": null,
   "metadata": {},
   "outputs": [],
   "source": [
    "# param_f = lambda: param.image(100, h=100)\n",
    "# channel = lambda n: objectives.channel(\"MatMul_5\", n)\n",
    "# obj = channel(0)\n",
    "\n",
    "# transforms=[]\n",
    "# thresholds = (256,)\n",
    "# neurons = []\n",
    "\n",
    "# img = render.render_vis(model, obj, param_f, thresholds=thresholds, transforms=transforms, verbose=False)\n",
    "# neurons.append(img)\n",
    "\n",
    "# vis = img[0][0]\n",
    "# show(vis)\n",
    "\n",
    "# filename = 'MatMul_5_0' + str(i) + '.png'\n",
    "# path = 'model_visualizations/local_offset_pre/' + filename\n",
    "# imageio.imwrite(path, img)"
   ]
  },
  {
   "cell_type": "code",
   "execution_count": null,
   "metadata": {},
   "outputs": [],
   "source": [
    "# param_f = lambda: param.image(100, h=100)\n",
    "# channel = lambda n: objectives.channel(\"y_nn_offset\", n)\n",
    "\n",
    "# transforms=[]\n",
    "# thresholds = (256,)\n",
    "# neurons = []\n",
    "\n",
    "# start = time.time()\n",
    "# for i in range(0, 75):\n",
    "#     print(\"Optimizing y_nn_offset:\" + str(i) + \" .........\", end='')\n",
    "#     obj = channel(i)\n",
    "#     img = render.render_vis(model, obj, param_f, thresholds=thresholds, transforms=transforms, verbose=False)\n",
    "#     print(\"done.\")\n",
    "#     neurons.append(img)\n",
    "# finish = time.time()\n",
    "# print(\"Finished in \" + str(finish-start) + \" seconds.\") \n",
    "\n",
    "# # Display all neurons from Relu\n",
    "# for i in range(len(neurons)):\n",
    "#     print(i) \n",
    "#     show(neurons[i][0][0])\n",
    "    \n",
    "# # Save visualizations to disk as png files\n",
    "# for i in range(len(neurons)):\n",
    "#     img = neurons[i][0][0]\n",
    "#     filename = 'y_nn_off_' + str(i) + '.png'\n",
    "#     path = 'model_visualizations/y_nn_offset/' + filename\n",
    "#     imageio.imwrite(path, img)"
   ]
  },
  {
   "cell_type": "code",
   "execution_count": null,
   "metadata": {},
   "outputs": [],
   "source": [
    "# param_f = lambda: param.image(100, h=100)\n",
    "# channel = lambda n: objectives.channel(\"MatMul_6\", n)\n",
    "# obj = channel(0)\n",
    "\n",
    "# transforms=[]\n",
    "# thresholds = (256,)\n",
    "# neurons = []\n",
    "\n",
    "# img = render.render_vis(model, obj, param_f, thresholds=thresholds, transforms=transforms, verbose=False)\n",
    "# neurons.append(img)\n",
    "\n",
    "# vis = img[0][0]\n",
    "# show(vis)\n",
    "\n",
    "# filename = 'MatMul_6_0' + str(i) + '.png'\n",
    "# path = 'model_visualizations/coldensity_pre/' + filename\n",
    "# imageio.imwrite(path, img)"
   ]
  },
  {
   "cell_type": "code",
   "execution_count": null,
   "metadata": {},
   "outputs": [],
   "source": [
    "# param_f = lambda: param.image(100, h=100)\n",
    "# channel = lambda n: objectives.channel(\"y_nn_coldensity\", n)\n",
    "\n",
    "# transforms=[]\n",
    "# thresholds = (256,)\n",
    "# neurons = []\n",
    "\n",
    "# start = time.time()\n",
    "# for i in range(0, 75):\n",
    "#     print(\"Optimizing y_nn_coldens:\" + str(i) + \" .........\", end='')\n",
    "#     obj = channel(i)\n",
    "#     img = render.render_vis(model, obj, param_f, thresholds=thresholds, transforms=transforms, verbose=False)\n",
    "#     print(\"done.\")\n",
    "#     neurons.append(img)\n",
    "# finish = time.time()\n",
    "# print(\"Finished in \" + str(finish-start) + \" seconds.\") \n",
    "\n",
    "# # Display all neurons from Relu\n",
    "# for i in range(len(neurons)):\n",
    "#     print(i) \n",
    "#     show(neurons[i][0][0])\n",
    "    \n",
    "# # Save visualizations to disk as png files\n",
    "# for i in range(len(neurons)):\n",
    "#     img = neurons[i][0][0]\n",
    "#     filename = 'y_nn_coldens_' + str(i) + '.png'\n",
    "#     path = 'model_visualizations/y_nn_coldensity/' + filename\n",
    "#     imageio.imwrite(path, img)"
   ]
  },
  {
   "cell_type": "code",
   "execution_count": 5,
   "metadata": {},
   "outputs": [
    {
     "name": "stdout",
     "output_type": "stream",
     "text": [
      "2 20.312305\n"
     ]
    },
    {
     "data": {
      "text/html": [
       "<img src=\"data:image/PNG;base64,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\" style=\"image-rendering: pixelated;\">"
      ],
      "text/plain": [
       "<IPython.core.display.HTML object>"
      ]
     },
     "metadata": {},
     "output_type": "display_data"
    }
   ],
   "source": [
    "param_f = lambda: param.image(100, h=100)\n",
    "channel = lambda n: objectives.channel('y_nn_coldensity', n)\n",
    "obj = channel(74)\n",
    "img = render.render_vis(model, obj, param_f, thresholds=(2,), transforms=[])"
   ]
  },
  {
   "cell_type": "markdown",
   "metadata": {},
   "source": [
    "# testing"
   ]
  },
  {
   "cell_type": "code",
   "execution_count": null,
   "metadata": {},
   "outputs": [],
   "source": [
    "# param_f = lambda: param.image(100, h=100)\n",
    "# channel = lambda n: objectives.channel('Conv2D', n)\n",
    "# obj = channel(2)\n",
    "# img = render.render_vis(model, obj, param_f, thresholds=(256,), transforms=[])"
   ]
  },
  {
   "cell_type": "markdown",
   "metadata": {},
   "source": [
    "## Frequency Penalization\n",
    "- Penalzie high frequency in the optimization steps in an attempt to get better images\n",
    "- Downside is that we may loose high level feature informaiton like edges. "
   ]
  },
  {
   "cell_type": "code",
   "execution_count": null,
   "metadata": {
    "scrolled": true
   },
   "outputs": [],
   "source": [
    "# Learning rate, total variation, and blur\n",
    "L1 = -.5\n",
    "TV = -0.5\n",
    "BLUR = -0.0\n",
    "\n",
    "obj = objectives.channel(\"Relu_1\", 0)\n",
    "obj += L1 * objectives.L1(constant=.5)\n",
    "obj += TV * objectives.total_variation()\n",
    "obj += BLUR * objectives.blur_input_each_step()\n",
    "\n",
    "imgs = render.render_vis(model, obj,\n",
    "                         transforms=[],\n",
    "                         param_f=lambda: param.image(100, fft=False, decorrelate=True),\n",
    "                         thresholds=(1, 2, 4, 8, 16, 32, 64, 128, 256), verbose=True)\n",
    "\n",
    "# Double image scale to make artifacts more obvious\n",
    "#show([nd.zoom(img[0], [2,2,1], order=0) for img in imgs])"
   ]
  },
  {
   "cell_type": "markdown",
   "metadata": {},
   "source": [
    "## Transformation Robustness\n",
    "- Change image before optimizing. Shown to help reduce noise\n"
   ]
  },
  {
   "cell_type": "code",
   "execution_count": null,
   "metadata": {},
   "outputs": [],
   "source": [
    "# Only have Jitter and Rotate working for now\n",
    "# Scale disrupts the dimensions of optmiization.\n",
    "JITTER = 0\n",
    "ROTATE = 5\n",
    "#SCALE = 1.5\n",
    "\n",
    "param_f = lambda: param.image(100-JITTER, h=400, fft=True, decorrelate=True)\n",
    "\n",
    "channel = lambda n: objectives.channel('MaxPool', n)\n",
    "obj = channel(87)\n",
    "\n",
    "transforms = [\n",
    "    transform.pad(JITTER),\n",
    "    transform.jitter(JITTER),\n",
    "    #transform.random_scale([SCALE])\n",
    "    \n",
    "    #transform.random_rotate(range(-ROTATE, ROTATE+1))\n",
    "]\n",
    "\n",
    "imgs = render.render_vis(model, obj, transforms=transforms, param_f=param_f,\n",
    "                         thresholds=(1, 2, 4, 8, 16, 32, 64), verbose=True)\n",
    "\n",
    "# Double image scale to make artifacts more obvious\n",
    "#show([nd.zoom(img[0], [2,2,1], order=0) for img in imgs])"
   ]
  },
  {
   "cell_type": "markdown",
   "metadata": {},
   "source": [
    "## Preconditioning"
   ]
  },
  {
   "cell_type": "code",
   "execution_count": null,
   "metadata": {},
   "outputs": [],
   "source": [
    "LEARNING_RATE = 0.05\n",
    "JITTER = 4\n",
    "DECORRELATE = True\n",
    "ROBUSTNESS = False\n",
    "\n",
    "\n",
    "channel = lambda n: objectives.channel('Conv2D', n)\n",
    "obj = channel(2)\n",
    "\n",
    "\n",
    "# `fft` parameter controls spatial decorrelation\n",
    "# `decorrelate` parameter controls channel decorrelation\n",
    "param_f = lambda: param.image(100-JITTER, fft=DECORRELATE, decorrelate=DECORRELATE)\n",
    "\n",
    "if ROBUSTNESS:\n",
    "    transforms = [transform.pad(JITTER), transform.jitter(JITTER)]\n",
    "else:\n",
    "    transforms = []\n",
    "    param_f = lambda: param.image(100, fft=DECORRELATE, decorrelate=DECORRELATE)\n",
    "    \n",
    "    \n",
    "optimizer = tf.train.AdamOptimizer(LEARNING_RATE)\n",
    "\n",
    "imgs = render.render_vis(model, obj,\n",
    "                         optimizer=optimizer,\n",
    "                         transforms=transforms,\n",
    "                         param_f=param_f, \n",
    "                         thresholds=(1, 2, 4, 8, 16, 32, 64, 128, 256), verbose=True)\n",
    "\n",
    "# Double image scale to make artifacts more obvious\n",
    "#show([nd.zoom(img[0], [2,2,1], order=0) for img in imgs])"
   ]
  },
  {
   "cell_type": "markdown",
   "metadata": {},
   "source": [
    "# Interaction Between Neurons "
   ]
  },
  {
   "cell_type": "code",
   "execution_count": null,
   "metadata": {},
   "outputs": [],
   "source": [
    "neuron1 = ('MaxPool', 0)\n",
    "\n",
    "neuron2= ('MaxPool', 87)"
   ]
  },
  {
   "cell_type": "code",
   "execution_count": null,
   "metadata": {},
   "outputs": [],
   "source": [
    "C = lambda neuron: objectives.channel(*neuron)\n",
    "\n",
    "param_f = lambda: param.image(100)\n",
    "\n",
    "_ = render.render_vis(model, C(neuron1), param_f, transforms=[])\n",
    "_ = render.render_vis(model, C(neuron2), param_f, transforms=[])\n",
    "_ = render.render_vis(model, C(neuron1) + C(neuron2), param_f, transforms=[])"
   ]
  },
  {
   "cell_type": "markdown",
   "metadata": {},
   "source": [
    "## Random Directions - Not yet tested"
   ]
  },
  {
   "cell_type": "markdown",
   "metadata": {},
   "source": [
    "## Aligned Interpolation - Not yet tested"
   ]
  },
  {
   "cell_type": "markdown",
   "metadata": {},
   "source": [
    "## Try maximing all neurons in a layer"
   ]
  },
  {
   "cell_type": "code",
   "execution_count": null,
   "metadata": {},
   "outputs": [],
   "source": [
    "channel = lambda n: objectives.channel('MatMul', n)\n",
    "obj = channel(0)\n",
    "for i in range(1, 350):\n",
    "    obj += channel(i)\n",
    "\n",
    "param_f = lambda: param.image(100, h=100)\n",
    "_ = render.render_vis(model, obj, param_f, thresholds=(1, 2, 4, 8, 16, 32, 64, 128),\n",
    "                      transforms=[])\n"
   ]
  }
 ],
 "metadata": {
  "kernelspec": {
   "display_name": "Python 3",
   "language": "python",
   "name": "python3"
  },
  "language_info": {
   "codemirror_mode": {
    "name": "ipython",
    "version": 3
   },
   "file_extension": ".py",
   "mimetype": "text/x-python",
   "name": "python",
   "nbconvert_exporter": "python",
   "pygments_lexer": "ipython3",
   "version": "3.6.8"
  }
 },
 "nbformat": 4,
 "nbformat_minor": 2
}
